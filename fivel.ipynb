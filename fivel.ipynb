{
 "cells": [
  {
   "cell_type": "code",
   "execution_count": 1,
   "id": "29066002",
   "metadata": {},
   "outputs": [
    {
     "name": "stderr",
     "output_type": "stream",
     "text": [
      "\u001b[32m\u001b[1m  Activating\u001b[22m\u001b[39m project at `~/Projects/PuzzleTools.jl`\n"
     ]
    }
   ],
   "source": [
    "]activate ."
   ]
  },
  {
   "cell_type": "code",
   "execution_count": 8,
   "id": "2bd261f3",
   "metadata": {},
   "outputs": [
    {
     "data": {
      "text/plain": [
       "221-element Vector{String}:\n",
       " \"alabama\"\n",
       " \"birmingham\"\n",
       " \"montgomery\"\n",
       " \"selma\"\n",
       " \"alaska\"\n",
       " \"anchorage\"\n",
       " \"fairbanks\"\n",
       " \"juneau\"\n",
       " \"kodiak\"\n",
       " \"potter alaska\"\n",
       " \"sitka\"\n",
       " \"wrangell\"\n",
       " \"arizonia\"\n",
       " ⋮\n",
       " \"seattle sans\"\n",
       " \"spokane\"\n",
       " \"tacoma\"\n",
       " \"tahoma\"\n",
       " \"washington\"\n",
       " \"huntington\"\n",
       " \"la crosse\"\n",
       " \"madison\"\n",
       " \"milwaukee\"\n",
       " \"cheyenne\"\n",
       " \"teton\"\n",
       " \"wyoming spaghetti\""
      ]
     },
     "execution_count": 8,
     "metadata": {},
     "output_type": "execute_result"
    }
   ],
   "source": [
    "content = \"\"\"\n",
    "Alabama Fonts: Alabama, Birmingham, Montgomery, Selma\n",
    "Alaska Fonts: Alaska, Anchorage, Fairbanks, Juneau, Kodiak, Potter Alaska, Sitka, Wrangell\n",
    "Arizona Fonts: Arizonia, Flagstaff, Kingman, Phoenix, Sedona, Tombstone, Tucson, Winona\n",
    "Arkansas Fonts: Arkansas, Texarkana\n",
    "California Fonts: Alameda, Amboy, Anaheim, Burlingame, Californian, Cupertino, Fresno, Hollywood Hills, Joshua Tree, Los Angeles, Malibu, Menlo, Millbrae, Monterey, Oakland, Sacramento, San Bernardino, San Diego, San Francisco, San Jose, Santa Barbara Streets, Stockton, Yosemite\n",
    "Colorado Fonts: Aspen, Colorado, Denver, Durango Western, Pueblo, Rocky Mountain Beauty\n",
    "Connecticut Fonts: Connecticut, Milford\n",
    "Delaware Fonts: Delaware\n",
    "Florida Fonts: Daytona, Everglades, Florida, Key West, Old Miami Beach, Orlando, Tallahassee Chassis, Tampa\n",
    "Georgia Fonts: Atlanta, Georgia, Savannah\n",
    "Hawaii Fonts: Hanalei, Hawaii, Hawaiian Aloha\n",
    "Idaho Fonts: Coeur d’Alene, Idaho, Pocatello\n",
    "Illinois Fonts: Chicago, Deerfield, Fairfield, Illinois, Midway\n",
    "Indiana Fonts: Indiana Script, Indy Italic, Kokomo\n",
    "Iowa Fonts: Davenport, Iowan Old Style\n",
    "Kansas Fonts: Kansas, New Kansas, Topeka, Wichita\n",
    "Kentucky Fonts: Kentuckyfried, Lexington, Louisville Script\n",
    "Louisiana Fonts: Big Easy, Louisiana, New Orleans\n",
    "Maine Fonts: Acadia, Augusta, Kennebunkport\n",
    "Maryland Fonts: Baltimore Typewriter, Maryland\n",
    "Massachusetts Fonts: Boston, Falmouth, Plymouth\n",
    "Michigan Fonts: Detroit Metro, Fayette, Grand Rapids, Great Lakes, Kalamazoo, Mackinac, Michigan\n",
    "Minnesota Fonts: Hiawatha, Minneapolis, Minnesota\n",
    "Mississippi Fonts: Biloxi Script, Mississippi\n",
    "Missouri Fonts: Joplin, Kansas City, Saint Louis\n",
    "Montana Fonts: Billings, Bozeman, Helena, Montana, Whitefish\n",
    "Nebraska Fonts: Lincoln, Nebraska, Omaha\n",
    "Nevada Fonts: Area 51, Las Vegas, Nevada, Reno Casino, Vegas Caravan\n",
    "New Hampshire Fonts: New Hampshire , Portsmouth\n",
    "New Jersey Fonts: Asbury Park, Newark, Trenton\n",
    "New Mexico Fonts: New Mexico, Roswell, Santa Fe, Taos\n",
    "New York Fonts: Broadway, Buffalo, Coney Island, Elmira, Hamptons, Kaatskill, Manhattan, New York, Nyack\n",
    "North Carolina Fonts: Asheville, Charlotte, Raleigh Gothic, Roanoke\n",
    "North Dakota Fonts: Dakota, Fargo, Grand Forks\n",
    "Northern Mariana Islands Fonts: Marianas\n",
    "Ohio Fonts: Cincinnati, Cleveland Neon, Huron, Ohio, Toledo\n",
    "Oklahoma Fonts: Boomtown Deco, Oklahoma, Oklahoma City\n",
    "Oregon Fonts: Ashland, Bend, Cascadia Code, Eugene, Mazama, Oregon, Portland\n",
    "Pennsylvania Fonts: Pennsylvania, Philadelphia, Pittsburgh\n",
    "Puerto Rico Fonts: Arecibo\n",
    "Rhode Island Fonts: Providence\n",
    "South Carolina Fonts: Charleston, Spartanburg\n",
    "South Dakota Fonts: Badlands, Deadwood\n",
    "Tennessee Fonts: Chattanooga, Memphis, Nashville, Tennessee\n",
    "Texas Fonts: Abilene, Amarillo, Austin, Dallas, El Paso, Fort Worth, Galveston, Houston, Langtry, Laredo, Pecos, San Antonio, Texas, Texas Hero, Texas Tango\n",
    "US Virgin Islands Fonts: St. John\n",
    "Utah Fonts: Grand Staircase, Moab, Ogden, Provo, Salt Lake, Utah, Zion\n",
    "Vermont Fonts: Burlington, Vermont\n",
    "Virginia Fonts: Quantico, Virginia\n",
    "Washington Fonts: Olympia, Seattle Sans, Spokane, Tacoma, Tahoma\n",
    "Washington, D.C. Fonts: Washington\n",
    "West Virginia Fonts: Huntington\n",
    "Wisconsin Fonts: La Crosse, Madison, Milwaukee\n",
    "Wyoming Fonts: Cheyenne, Teton, Wyoming Spaghetti\"\"\"\n",
    "\n",
    "names = lowercase.(strip.(Iterators.flatten(split.(strip.([(split(line, ':'))[2] for line in split(content, '\\n') if !isempty(line)]), ','))))"
   ]
  },
  {
   "cell_type": "code",
   "execution_count": 9,
   "id": "408026d2",
   "metadata": {},
   "outputs": [
    {
     "data": {
      "text/plain": [
       "find_anagrams (generic function with 1 method)"
      ]
     },
     "execution_count": 9,
     "metadata": {},
     "output_type": "execute_result"
    }
   ],
   "source": [
    "function find_anagrams(names, word)\n",
    "    [font for font in names if all(in(font), word)]\n",
    "end"
   ]
  },
  {
   "cell_type": "code",
   "execution_count": 52,
   "id": "39d24619",
   "metadata": {},
   "outputs": [
    {
     "data": {
      "text/plain": [
       "2-element Vector{String}:\n",
       " \"louisville script\"\n",
       " \"pecos\""
      ]
     },
     "execution_count": 52,
     "metadata": {},
     "output_type": "execute_result"
    }
   ],
   "source": [
    "find_anagrams(names, \"scope\")"
   ]
  },
  {
   "cell_type": "code",
   "execution_count": null,
   "id": "cd83e7d4",
   "metadata": {},
   "outputs": [],
   "source": []
  }
 ],
 "metadata": {
  "kernelspec": {
   "display_name": "Julia 1.7.1",
   "language": "julia",
   "name": "julia-1.7"
  },
  "language_info": {
   "file_extension": ".jl",
   "mimetype": "application/julia",
   "name": "julia",
   "version": "1.7.1"
  }
 },
 "nbformat": 4,
 "nbformat_minor": 5
}
