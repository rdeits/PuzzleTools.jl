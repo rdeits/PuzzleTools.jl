{
 "cells": [
  {
   "cell_type": "code",
   "execution_count": 24,
   "metadata": {
    "collapsed": false
   },
   "outputs": [
    {
     "data": {
      "text/plain": [
       "133852×2 Array{String,2}:\n",
       " \"!EXCLAMATION-POINT\"  \"EH2 K S K L AH0 M EY1 SH AH0 N P OY2 N T\"\n",
       " \"\\\"CLOSE-QUOTE\"       \"K L OW1 Z K W OW1 T\"                     \n",
       " \"\\\"DOUBLE-QUOTE\"      \"D AH1 B AH0 L K W OW1 T\"                 \n",
       " \"\\\"END-OF-QUOTE\"      \"EH1 N D AH0 V K W OW1 T\"                 \n",
       " \"\\\"END-QUOTE\"         \"EH1 N D K W OW1 T\"                       \n",
       " \"\\\"IN-QUOTES\"         \"IH1 N K W OW1 T S\"                       \n",
       " \"\\\"QUOTE\"             \"K W OW1 T\"                               \n",
       " \"\\\"UNQUOTE\"           \"AH1 N K W OW1 T\"                         \n",
       " \"#HASH-MARK\"          \"HH AE1 M AA2 R K\"                        \n",
       " \"#POUND-SIGN\"         \"P AW1 N D S AY2 N\"                       \n",
       " \"#SHARP-SIGN\"         \"SH AA1 R P S AY2 N\"                      \n",
       " \"%PERCENT\"            \"P ER0 S EH1 N T\"                         \n",
       " \"&AMPERSAND\"          \"AE1 M P ER0 S AE2 N D\"                   \n",
       " ⋮                                                               \n",
       " \"ZYSK(1)\"             \"Z AY1 S K\"                               \n",
       " \"ZYSKOWSKI\"           \"Z IH0 S K AO1 F S K IY0\"                 \n",
       " \"ZYUGANOV\"            \"Z Y UW1 G AA0 N AA0 V\"                   \n",
       " \"ZYUGANOV(1)\"         \"Z UW1 G AA0 N AA0 V\"                     \n",
       " \"ZYUGANOV'S\"          \"Z Y UW1 G AA0 N AA0 V Z\"                 \n",
       " \"ZYUGANOV'S(1)\"       \"Z UW1 G AA0 N AA0 V Z\"                   \n",
       " \"ZYWICKI\"             \"Z IH0 W IH1 K IY0\"                       \n",
       " \"{BRACE\"              \"B R EY1 S\"                               \n",
       " \"{LEFT-BRACE\"         \"L EH1 F T B R EY1 S\"                     \n",
       " \"{OPEN-BRACE\"         \"OW1 P EH0 N B R EY1 S\"                   \n",
       " \"}CLOSE-BRACE\"        \"K L OW1 Z B R EY1 S\"                     \n",
       " \"}RIGHT-BRACE\"        \"R AY1 T B R EY1 S\"                       "
      ]
     },
     "execution_count": 24,
     "metadata": {},
     "output_type": "execute_result"
    }
   ],
   "source": [
    "cmudict = readdlm(\"data/cmudict-0.7b.txt\", '\\t', String, comment_char=';', quotes=false)"
   ]
  },
  {
   "cell_type": "code",
   "execution_count": 25,
   "metadata": {
    "collapsed": false
   },
   "outputs": [
    {
     "data": {
      "text/plain": [
       "55-element Array{Tuple{String,String},1}:\n",
       " (\"EH R\",\"ɛr\") \n",
       " (\"UH R\",\"ʊr\") \n",
       " (\"AO R\",\"ɔr\") \n",
       " (\"AA R\",\"ɑr\") \n",
       " (\"IH R \",\"ɪr\")\n",
       " (\"IY R\",\"ɪr\") \n",
       " (\"AW R\",\"aʊr\")\n",
       " (\"AXR\",\"ɚ\")   \n",
       " (\"ENG\",\"ŋ̍\")  \n",
       " (\"AO\",\"ɔ\")    \n",
       " (\"AA\",\"ɑ\")    \n",
       " (\"IY\",\"i\")    \n",
       " (\"UW\",\"u\")    \n",
       " ⋮             \n",
       " (\"G\",\"ɡ\")     \n",
       " (\"F\",\"f\")     \n",
       " (\"V\",\"v\")     \n",
       " (\"S\",\"s\")     \n",
       " (\"Z\",\"z\")     \n",
       " (\"M\",\"m\")     \n",
       " (\"N\",\"n\")     \n",
       " (\"L\",\"ɫ\")     \n",
       " (\"R\",\"r\")     \n",
       " (\"Y\",\"j\")     \n",
       " (\"W\",\"w\")     \n",
       " (\"Q\",\"ʔ\")     "
      ]
     },
     "execution_count": 25,
     "metadata": {},
     "output_type": "execute_result"
    }
   ],
   "source": [
    "arpabet_table = readdlm(\"data/arpabet.txt\", '\\t', String)\n",
    "arpabet = [(arpabet_table[i,1], arpabet_table[i, 2]) \n",
    "    for i in 1:size(arpabet_table, 1)]"
   ]
  },
  {
   "cell_type": "code",
   "execution_count": 26,
   "metadata": {
    "collapsed": false
   },
   "outputs": [
    {
     "name": "stderr",
     "output_type": "stream",
     "text": [
      "WARNING: Method definition cleanup_word(Any) in module Main at In[19]:3 overwritten at In[26]:3.\n",
      "WARNING: Method definition parse_arpabet(Any) in module Main at In[19]:7 overwritten at In[26]:7.\n"
     ]
    },
    {
     "data": {
      "text/plain": [
       "parse_arpabet (generic function with 1 method)"
      ]
     },
     "execution_count": 26,
     "metadata": {},
     "output_type": "execute_result"
    }
   ],
   "source": [
    "\n",
    "function cleanup_word(word)\n",
    "    replace(lowercase(word), r\"[^a-z ]\", \"\")\n",
    "end\n",
    "\n",
    "function parse_arpabet(chars)\n",
    "    result = replace(chars, r\"[0-9]\", \"\")\n",
    "    for (arpa, ipa) in arpabet\n",
    "        result = replace(result, arpa, ipa)\n",
    "    end\n",
    "    replace(result, \" \", \"\")\n",
    "end"
   ]
  },
  {
   "cell_type": "code",
   "execution_count": 27,
   "metadata": {
    "collapsed": false
   },
   "outputs": [
    {
     "data": {
      "text/plain": [
       "133852-element Array{Tuple{String,String},1}:\n",
       " (\"exclamationpoint\",\"ɛkskɫʌmeɪʃʌnpɔɪnt\")\n",
       " (\"closequote\",\"kɫoʊzkwoʊt\")             \n",
       " (\"doublequote\",\"dʌbʌɫkwoʊt\")            \n",
       " (\"endofquote\",\"ɛndʌvkwoʊt\")             \n",
       " (\"endquote\",\"ɛndkwoʊt\")                 \n",
       " (\"inquotes\",\"ɪnkwoʊts\")                 \n",
       " (\"quote\",\"kwoʊt\")                       \n",
       " (\"unquote\",\"ʌnkwoʊt\")                   \n",
       " (\"hashmark\",\"hæmɑrk\")                   \n",
       " (\"poundsign\",\"paʊndsaɪn\")               \n",
       " (\"sharpsign\",\"ʃɑrpsaɪn\")                \n",
       " (\"percent\",\"pɝsɛnt\")                    \n",
       " (\"ampersand\",\"æmpɝsænd\")                \n",
       " ⋮                                       \n",
       " (\"zysk\",\"zaɪsk\")                        \n",
       " (\"zyskowski\",\"zɪskɔfski\")               \n",
       " (\"zyuganov\",\"zjuɡɑnɑv\")                 \n",
       " (\"zyuganov\",\"zuɡɑnɑv\")                  \n",
       " (\"zyuganovs\",\"zjuɡɑnɑvz\")               \n",
       " (\"zyuganovs\",\"zuɡɑnɑvz\")                \n",
       " (\"zywicki\",\"zɪwɪki\")                    \n",
       " (\"brace\",\"breɪs\")                       \n",
       " (\"leftbrace\",\"ɫɛftbreɪs\")               \n",
       " (\"openbrace\",\"oʊpɛnbreɪs\")              \n",
       " (\"closebrace\",\"kɫoʊzbreɪs\")             \n",
       " (\"rightbrace\",\"raɪtbreɪs\")              "
      ]
     },
     "execution_count": 27,
     "metadata": {},
     "output_type": "execute_result"
    }
   ],
   "source": [
    "cleaned = [(cleanup_word(cmudict[i, 1]), parse_arpabet(cmudict[i, 2])) for i in 1:size(cmudict, 1)]"
   ]
  },
  {
   "cell_type": "code",
   "execution_count": 28,
   "metadata": {
    "collapsed": false
   },
   "outputs": [],
   "source": [
    "writedlm(\"data/cmudict.ipa.txt\", vcat(cleaned))"
   ]
  },
  {
   "cell_type": "code",
   "execution_count": null,
   "metadata": {
    "collapsed": true
   },
   "outputs": [],
   "source": []
  }
 ],
 "metadata": {
  "kernelspec": {
   "display_name": "Julia 0.5.0",
   "language": "julia",
   "name": "julia-0.5"
  },
  "language_info": {
   "file_extension": ".jl",
   "mimetype": "application/julia",
   "name": "julia",
   "version": "0.5.0"
  }
 },
 "nbformat": 4,
 "nbformat_minor": 2
}
