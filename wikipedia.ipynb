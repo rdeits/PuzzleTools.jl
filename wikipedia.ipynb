{
 "cells": [
  {
   "cell_type": "code",
   "execution_count": 21,
   "metadata": {
    "collapsed": false
   },
   "outputs": [
    {
     "name": "stderr",
     "output_type": "stream",
     "text": [
      "INFO: Recompiling stale cache file /Users/rdeits/.julia/lib/v0.5/LightXML.ji for module LightXML.\n"
     ]
    }
   ],
   "source": [
    "using Requests, JSON, LightXML"
   ]
  },
  {
   "cell_type": "code",
   "execution_count": 13,
   "metadata": {
    "collapsed": false
   },
   "outputs": [
    {
     "data": {
      "text/plain": [
       "Response(200 OK, 25 headers, 27448 bytes in body)"
      ]
     },
     "execution_count": 13,
     "metadata": {},
     "output_type": "execute_result"
    }
   ],
   "source": [
    "response = get(\"https://en.wikipedia.org/w/api.php\", \n",
    "query=Dict(\n",
    "\"action\" => \"query\",\n",
    "\"titles\" => \"List of common fish names\",\n",
    "\"prop\" => \"revisions\",\n",
    "\"rvprop\" => \"content\",\n",
    "\"format\" => \"json\"\n",
    "))"
   ]
  },
  {
   "cell_type": "code",
   "execution_count": 14,
   "metadata": {
    "collapsed": false,
    "scrolled": true
   },
   "outputs": [],
   "source": [
    "j = Requests.json(response)\n",
    "j[\"query\"][\"pages\"][\"330482\"][\"revisions\"][1][\"*\"];"
   ]
  },
  {
   "cell_type": "code",
   "execution_count": 52,
   "metadata": {
    "collapsed": false
   },
   "outputs": [
    {
     "name": "stdout",
     "output_type": "stream",
     "text": [
      "Test Summary: | Pass  Total\n",
      "  caching     |    8      8\n"
     ]
    },
    {
     "name": "stderr",
     "output_type": "stream",
     "text": [
      "WARNING: replacing module Caching\n",
      "WARNING: replacing module cachingtest\n",
      "WARNING: replacing module Wiki\n",
      "WARNING: replacing module Wordsets\n"
     ]
    },
    {
     "data": {
      "text/plain": [
       "Wordsets"
      ]
     },
     "execution_count": 52,
     "metadata": {},
     "output_type": "execute_result"
    }
   ],
   "source": [
    "include(\"src/caching.jl\")\n",
    "include(\"test/caching.jl\");\n",
    "include(\"src/wiki.jl\");\n",
    "include(\"src/wordsets.jl\")"
   ]
  },
  {
   "cell_type": "code",
   "execution_count": 61,
   "metadata": {
    "collapsed": false
   },
   "outputs": [
    {
     "data": {
      "text/plain": [
       "10-element Array{String,1}:\n",
       " \"List of capitals in the United States\"                   \n",
       " \"Lists of capitals\"                                       \n",
       " \"List of former national capitals\"                        \n",
       " \"United States capital (disambiguation)\"                  \n",
       " \"List of capitals in Pakistan\"                            \n",
       " \"List of countries by national capital and largest cities\"\n",
       " \"List of state capitols in the United States\"             \n",
       " \"Geographic centers of the United States\"                 \n",
       " \"List of capitals of Myanmar\"                             \n",
       " \"Washington Capitals\"                                     "
      ]
     },
     "execution_count": 61,
     "metadata": {},
     "output_type": "execute_result"
    }
   ],
   "source": [
    "Wiki.search(\"List of capitals in the united states\")"
   ]
  },
  {
   "cell_type": "code",
   "execution_count": 62,
   "metadata": {
    "collapsed": false
   },
   "outputs": [
    {
     "data": {
      "text/plain": [
       "Set(String[\"denver colorado\",\"bear flag revolt\",\"colony of rhode island\",\"new haven connecticut\",\"territorial evolution of the united states\",\"district of columbia organic act of \",\"arizona territory \",\"district of louisiana\",\"illinois\",\"houston\"  …  \"history of west virginia\",\"madison wisconsin\",\"loreto baja california sur\",\"kingdom of great britain\",\"russia\",\"vincennes indiana\",\"henrico county virginia\",\"harrisburg houston\",\"pawnee kansas\",\"mexicanamerican war\"])"
      ]
     },
     "execution_count": 62,
     "metadata": {},
     "output_type": "execute_result"
    }
   ],
   "source": [
    "Wordsets.Wikipedia.wordset(\"List of capitals in the United States\")"
   ]
  },
  {
   "cell_type": "code",
   "execution_count": null,
   "metadata": {
    "collapsed": true
   },
   "outputs": [],
   "source": []
  }
 ],
 "metadata": {
  "kernelspec": {
   "display_name": "Julia 0.5.0",
   "language": "julia",
   "name": "julia-0.5"
  },
  "language_info": {
   "file_extension": ".jl",
   "mimetype": "application/julia",
   "name": "julia",
   "version": "0.5.0"
  }
 },
 "nbformat": 4,
 "nbformat_minor": 0
}
