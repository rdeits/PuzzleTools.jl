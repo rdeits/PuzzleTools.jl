{
 "cells": [
  {
   "cell_type": "code",
   "execution_count": 21,
   "metadata": {
    "collapsed": false
   },
   "outputs": [
    {
     "name": "stderr",
     "output_type": "stream",
     "text": [
      "INFO: Recompiling stale cache file /Users/rdeits/.julia/lib/v0.5/LightXML.ji for module LightXML.\n"
     ]
    }
   ],
   "source": [
    "using Requests, JSON, LightXML"
   ]
  },
  {
   "cell_type": "code",
   "execution_count": 13,
   "metadata": {
    "collapsed": false
   },
   "outputs": [
    {
     "data": {
      "text/plain": [
       "Response(200 OK, 25 headers, 27448 bytes in body)"
      ]
     },
     "execution_count": 13,
     "metadata": {},
     "output_type": "execute_result"
    }
   ],
   "source": [
    "response = get(\"https://en.wikipedia.org/w/api.php\", \n",
    "query=Dict(\n",
    "\"action\" => \"query\",\n",
    "\"titles\" => \"List of common fish names\",\n",
    "\"prop\" => \"revisions\",\n",
    "\"rvprop\" => \"content\",\n",
    "\"format\" => \"json\"\n",
    "))"
   ]
  },
  {
   "cell_type": "code",
   "execution_count": 14,
   "metadata": {
    "collapsed": false,
    "scrolled": true
   },
   "outputs": [],
   "source": [
    "j = Requests.json(response)\n",
    "j[\"query\"][\"pages\"][\"330482\"][\"revisions\"][1][\"*\"];"
   ]
  },
  {
   "cell_type": "code",
   "execution_count": 6,
   "metadata": {
    "collapsed": false
   },
   "outputs": [
    {
     "name": "stdout",
     "output_type": "stream",
     "text": [
      "running bar\n"
     ]
    },
    {
     "name": "stderr",
     "output_type": "stream",
     "text": [
      "WARNING: replacing module Caching\n",
      "WARNING: replacing module cachingtest\n"
     ]
    },
    {
     "name": "stdout",
     "output_type": "stream",
     "text": [
      "cachingtest.Foo(Nullable{Int64}(),Nullable{Float64}())\n",
      "running baz\n",
      "Test Summary: | Pass  Total\n",
      "  caching     |    6      6\n"
     ]
    }
   ],
   "source": [
    "include(\"src/caching.jl\")\n",
    "include(\"test/caching.jl\");"
   ]
  },
  {
   "cell_type": "code",
   "execution_count": 7,
   "metadata": {
    "collapsed": false
   },
   "outputs": [
    {
     "name": "stderr",
     "output_type": "stream",
     "text": [
      "WARNING: replacing module wiki\n"
     ]
    },
    {
     "data": {
      "text/plain": [
       "wiki"
      ]
     },
     "execution_count": 7,
     "metadata": {},
     "output_type": "execute_result"
    }
   ],
   "source": [
    "module wiki\n",
    "\n",
    "using Requests, JSON, Caching\n",
    "\n",
    "type MediaWiki\n",
    "    url::String\n",
    "end\n",
    "\n",
    "wikipedia = MediaWiki(\"https://en.wikipedia.org/w/api.php\")\n",
    "\n",
    "function wiki_request(wiki::MediaWiki, query_params)\n",
    "    query = Dict(\n",
    "        \"format\" => \"json\",\n",
    "        \"action\" => \"query\",\n",
    "        query_params...\n",
    "    )\n",
    "    Requests.json(get(\n",
    "        wiki.url,\n",
    "        query=query\n",
    "    ))\n",
    "end\n",
    "\n",
    "type WikiPage\n",
    "    title::String\n",
    "    wiki::MediaWiki\n",
    "    links::Nullable{Vector{String}}\n",
    "    \n",
    "    WikiPage(title, wiki=wikipedia) = new(title, \n",
    "        wiki, \n",
    "        Nullable{Vector{String}}()\n",
    "    )\n",
    "end\n",
    "\n",
    "\n",
    "\"\"\"\n",
    "Based on https://www.mediawiki.org/wiki/API:Query#Continuing_queries\n",
    "\"\"\"\n",
    "function continued_query(page::WikiPage, query_params)\n",
    "    continuation = Dict{String, String}()\n",
    "    prop = query_params[\"prop\"]\n",
    "    results = []\n",
    "    \n",
    "    while true\n",
    "        response = wiki_request(page.wiki, Dict(\n",
    "            \"titles\" => page.title,\n",
    "            continuation...,\n",
    "            query_params...\n",
    "        ))\n",
    "        for (page_id, page_data) in response[\"query\"][\"pages\"]\n",
    "            append!(results, page_data[prop])\n",
    "        end\n",
    "        if \"continue\" in keys(response)\n",
    "            continuation = response[\"continue\"]\n",
    "        else\n",
    "            break\n",
    "        end\n",
    "    end\n",
    "    results\n",
    "end\n",
    "\n",
    "@cached function links(page::WikiPage)\n",
    "    raw_links = continued_query(page, Dict(\n",
    "    \"prop\" => \"links\",\n",
    "    \"plnamespace\" => 0,\n",
    "    \"pllimit\" => \"max\",\n",
    "    ))\n",
    "    String[d[\"title\"] for d in raw_links]\n",
    "end\n",
    "        \n",
    "end"
   ]
  },
  {
   "cell_type": "code",
   "execution_count": 8,
   "metadata": {
    "collapsed": false
   },
   "outputs": [
    {
     "data": {
      "text/plain": [
       "wiki.WikiPage(\"Novelty and fad dances\",wiki.MediaWiki(\"https://en.wikipedia.org/w/api.php\"),Nullable{Array{String,1}}())"
      ]
     },
     "execution_count": 8,
     "metadata": {},
     "output_type": "execute_result"
    }
   ],
   "source": [
    "# page = wiki.WikiPage(\"List of common fish names\")\n",
    "page = wiki.WikiPage(\"Novelty and fad dances\")"
   ]
  },
  {
   "cell_type": "code",
   "execution_count": 11,
   "metadata": {
    "collapsed": false
   },
   "outputs": [
    {
     "data": {
      "text/plain": [
       "224-element Array{String,1}:\n",
       " \"Achy Breaky Heart\"      \n",
       " \"Acro dance\"             \n",
       " \"African-American dance\" \n",
       " \"African dance\"          \n",
       " \"Algorithm March\"        \n",
       " \"Allemande\"              \n",
       " \"Assyrian folk dance\"    \n",
       " \"B-boying\"               \n",
       " \"Bach\"                   \n",
       " \"Ballet\"                 \n",
       " \"Ballet technique\"       \n",
       " \"Ballroom dance\"         \n",
       " \"Batusi\"                 \n",
       " ⋮                        \n",
       " \"Twerking\"               \n",
       " \"Twist (dance)\"          \n",
       " \"Ukrainian dance\"        \n",
       " \"Vogue (Madonna song)\"   \n",
       " \"Walk like an Egyptian\"  \n",
       " \"Waltz\"                  \n",
       " \"War dance\"              \n",
       " \"Watch Me (Whip/Nae Nae)\"\n",
       " \"Watusi (dance)\"         \n",
       " \"Whip My Hair\"           \n",
       " \"Women in dance\"         \n",
       " \"Y.M.C.A. (song)\"        "
      ]
     },
     "execution_count": 11,
     "metadata": {},
     "output_type": "execute_result"
    }
   ],
   "source": [
    "links = wiki.links(page)"
   ]
  },
  {
   "cell_type": "code",
   "execution_count": null,
   "metadata": {
    "collapsed": true
   },
   "outputs": [],
   "source": []
  }
 ],
 "metadata": {
  "kernelspec": {
   "display_name": "Julia 0.5.0",
   "language": "julia",
   "name": "julia-0.5"
  },
  "language_info": {
   "file_extension": ".jl",
   "mimetype": "application/julia",
   "name": "julia",
   "version": "0.5.0"
  }
 },
 "nbformat": 4,
 "nbformat_minor": 0
}
