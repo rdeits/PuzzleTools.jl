{
 "cells": [
  {
   "cell_type": "code",
   "execution_count": 16,
   "metadata": {
    "collapsed": false
   },
   "outputs": [
    {
     "name": "stdout",
     "output_type": "stream",
     "text": [
      "Test Summary: | Pass  Total\n",
      "  caching     |    8      8\n"
     ]
    },
    {
     "name": "stderr",
     "output_type": "stream",
     "text": [
      "WARNING: replacing module Caching\n",
      "WARNING: replacing module cachingtest\n",
      "WARNING: replacing module Wiki\n",
      "WARNING: replacing module Wordsets\n"
     ]
    },
    {
     "data": {
      "text/plain": [
       "Search"
      ]
     },
     "execution_count": 16,
     "metadata": {},
     "output_type": "execute_result"
    }
   ],
   "source": [
    "include(\"src/caching.jl\")\n",
    "include(\"test/caching.jl\")\n",
    "include(\"src/wiki.jl\")\n",
    "include(\"src/wordsets.jl\")\n",
    "include(\"src/search.jl\")"
   ]
  },
  {
   "cell_type": "code",
   "execution_count": 2,
   "metadata": {
    "collapsed": false
   },
   "outputs": [
    {
     "data": {
      "text/plain": [
       "transitions (generic function with 1 method)"
      ]
     },
     "execution_count": 2,
     "metadata": {},
     "output_type": "execute_result"
    }
   ],
   "source": [
    "actions = Dict(\n",
    "1 => [11, 22, 9],\n",
    "2 => [6, 14, 12, 9, 5, 1],\n",
    "3 => [1, 6, 8, 20, 22],\n",
    "4 => [24, 20, 3, 11],\n",
    "5 => [2, 1, 6],\n",
    "6 => [2, 18, 17],\n",
    "7 => [24, 1, 10, 12, 2],\n",
    "8 => [3, 14, 6, 1],\n",
    "9 => [3, 21, 10, 2, 18, 1],\n",
    "10 => [16, 18, 6, 9],\n",
    "11 => [24, 17, 21, 4],\n",
    "12 => [5, 23, 17, 19],\n",
    "13 => [20, 1, 22, 14],\n",
    "14 => [10, 15, 7, 8],\n",
    "15 => [1, 18, 19, 12],\n",
    "16 => [1, 6, 5, 10, 2],\n",
    "17 => [19, 1, 3],\n",
    "18 => [20, 1, 19, 6],\n",
    "19 => [21, 2, 15, 12, 6],\n",
    "20 => [1, 21, 15, 23],\n",
    "21 => [19, 20, 3, 14, 22],\n",
    "22 => [15, 21, 6, 2, 20, 13, 14],\n",
    "23 => [10, 19, 1, 12, 22, 6],\n",
    "24 => []\n",
    ")\n",
    "\n",
    "transitions{T}(state::T) = [push!(copy(state), x) for x in actions[state[end]] if !(x in state)]::Vector{T}"
   ]
  },
  {
   "cell_type": "code",
   "execution_count": 18,
   "metadata": {
    "collapsed": false
   },
   "outputs": [
    {
     "data": {
      "text/plain": [
       "1-element Array{Array{Int64,1},1}:\n",
       " [1,11,4,3,8,6,17,19,15,12  …  2,9,18,20,21,22,13,14,7,24]"
      ]
     },
     "execution_count": 18,
     "metadata": {},
     "output_type": "execute_result"
    }
   ],
   "source": [
    "Search.breadth_first([1], transitions, x -> length(x) == 24)"
   ]
  },
  {
   "cell_type": "code",
   "execution_count": 19,
   "metadata": {
    "collapsed": false
   },
   "outputs": [
    {
     "data": {
      "text/plain": [
       "1-element Array{Array{Int64,1},1}:\n",
       " [1,11,4,3,8,6,17,19,15,12  …  2,9,18,20,21,22,13,14,7,24]"
      ]
     },
     "execution_count": 19,
     "metadata": {},
     "output_type": "execute_result"
    }
   ],
   "source": [
    "Search.depth_first([1], transitions, x -> length(x) == 24; limit=1)"
   ]
  },
  {
   "cell_type": "code",
   "execution_count": null,
   "metadata": {
    "collapsed": true
   },
   "outputs": [],
   "source": []
  }
 ],
 "metadata": {
  "kernelspec": {
   "display_name": "Julia 0.5.0",
   "language": "julia",
   "name": "julia-0.5"
  },
  "language_info": {
   "file_extension": ".jl",
   "mimetype": "application/julia",
   "name": "julia",
   "version": "0.5.0"
  }
 },
 "nbformat": 4,
 "nbformat_minor": 0
}
