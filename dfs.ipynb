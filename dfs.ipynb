{
 "cells": [
  {
   "cell_type": "code",
   "execution_count": 5,
   "id": "1cfad1e7",
   "metadata": {},
   "outputs": [
    {
     "name": "stderr",
     "output_type": "stream",
     "text": [
      "\u001b[32m\u001b[1m  Activating\u001b[22m\u001b[39m project at `~/Projects/PuzzleTools.jl`\n"
     ]
    }
   ],
   "source": [
    "]activate ."
   ]
  },
  {
   "cell_type": "code",
   "execution_count": 6,
   "id": "3dc7cf8c",
   "metadata": {},
   "outputs": [],
   "source": [
    "using PuzzleTools.Search: lazy_dfs\n",
    "using DataStructures: Trie"
   ]
  },
  {
   "cell_type": "code",
   "execution_count": 12,
   "id": "974386df",
   "metadata": {
    "scrolled": false
   },
   "outputs": [
    {
     "data": {
      "text/plain": [
       "2-element Vector{Vector{String}}:\n",
       " [\"h\", \"he\", \"hel\", \"hell\", \"hello\"]\n",
       " [\"w\", \"wo\", \"wor\", \"worl\", \"world\"]"
      ]
     },
     "execution_count": 12,
     "metadata": {},
     "output_type": "execute_result"
    }
   ],
   "source": [
    "words = [\"hello\", \"world\"]\n",
    "partials = Set([w[1:i] for w in words for i in 1:(length(w) - 1)])\n",
    "\n",
    "start = \"\"\n",
    "\n",
    "children = w -> (w * c for c in 'a':'z')\n",
    "\n",
    "evaluate = function(w)\n",
    "    if w in words\n",
    "        :done\n",
    "    elseif w in partials\n",
    "        :partial\n",
    "    else\n",
    "        :bad\n",
    "    end\n",
    "end\n",
    "\n",
    "collect(lazy_dfs(start, children, evaluate))"
   ]
  },
  {
   "cell_type": "code",
   "execution_count": 62,
   "id": "72bf008e",
   "metadata": {},
   "outputs": [
    {
     "data": {
      "text/plain": [
       "5×5 Matrix{Char}:\n",
       " 't'  'o'  't'  'e'  's'\n",
       " 'a'  'r'  'e'  'n'  't'\n",
       " 'r'  'a'  's'  't'  'a'\n",
       " 'o'  'n'  's'  'e'  't'\n",
       " 't'  's'  'a'  'r'  's'"
      ]
     },
     "metadata": {},
     "output_type": "display_data"
    },
    {
     "data": {
      "text/plain": [
       "5×5 Matrix{Char}:\n",
       " 't'  'o'  't'  'e'  's'\n",
       " 'a'  'r'  'e'  'n'  't'\n",
       " 'r'  'a'  's'  't'  'a'\n",
       " 'o'  'l'  's'  'e'  'n'\n",
       " 't'  's'  'a'  'r'  's'"
      ]
     },
     "metadata": {},
     "output_type": "display_data"
    },
    {
     "data": {
      "text/plain": [
       "5×5 Matrix{Char}:\n",
       " 't'  'o'  't'  'e'  's'\n",
       " 'a'  'r'  'e'  'n'  't'\n",
       " 's'  'a'  'r'  't'  'o'\n",
       " 's'  't'  'r'  'e'  'w'\n",
       " 's'  'e'  'a'  'r'  's'"
      ]
     },
     "metadata": {},
     "output_type": "display_data"
    },
    {
     "data": {
      "text/plain": [
       "5×5 Matrix{Char}:\n",
       " 't'  'o'  't'  'e'  's'\n",
       " 'a'  'r'  'e'  'n'  't'\n",
       " 's'  'a'  'r'  't'  'o'\n",
       " 's'  't'  'r'  'e'  'p'\n",
       " 's'  'e'  'a'  'r'  's'"
      ]
     },
     "metadata": {},
     "output_type": "display_data"
    },
    {
     "data": {
      "text/plain": [
       "5×5 Matrix{Char}:\n",
       " 't'  'o'  't'  'e'  's'\n",
       " 'a'  'n'  'o'  'd'  'e'\n",
       " 'c'  'e'  'a'  's'  'e'\n",
       " 't'  'i'  'd'  'e'  'd'\n",
       " 's'  'l'  'y'  'l'  'y'"
      ]
     },
     "metadata": {},
     "output_type": "display_data"
    },
    {
     "data": {
      "text/plain": [
       "5×5 Matrix{Char}:\n",
       " 't'  'o'  't'  'e'  's'\n",
       " 'a'  'n'  'o'  'd'  'e'\n",
       " 's'  'i'  'n'  'g'  'e'\n",
       " 't'  'o'  't'  'e'  'd'\n",
       " 'e'  'n'  'o'  's'  's'"
      ]
     },
     "metadata": {},
     "output_type": "display_data"
    },
    {
     "data": {
      "text/plain": [
       "5×5 Matrix{Char}:\n",
       " 't'  'o'  't'  'e'  's'\n",
       " 'a'  'n'  'o'  'd'  'e'\n",
       " 's'  'i'  'n'  'g'  'e'\n",
       " 't'  'o'  't'  'e'  'm'\n",
       " 'e'  'n'  'o'  's'  's'"
      ]
     },
     "metadata": {},
     "output_type": "display_data"
    },
    {
     "data": {
      "text/plain": [
       "5×5 Matrix{Char}:\n",
       " 't'  'o'  't'  'e'  's'\n",
       " 'a'  'n'  'o'  'd'  'e'\n",
       " 't'  'e'  'r'  's'  'e'\n",
       " 'e'  'a'  's'  'e'  'd'\n",
       " 's'  'l'  'i'  'l'  'y'"
      ]
     },
     "metadata": {},
     "output_type": "display_data"
    },
    {
     "data": {
      "text/plain": [
       "5×5 Matrix{Char}:\n",
       " 't'  'o'  't'  'e'  's'\n",
       " 'a'  'n'  'o'  'd'  'e'\n",
       " 'm'  'e'  'r'  'g'  'e'\n",
       " 'e'  'a'  't'  'e'  'r'\n",
       " 's'  'l'  'e'  'd'  's'"
      ]
     },
     "metadata": {},
     "output_type": "display_data"
    },
    {
     "data": {
      "text/plain": [
       "5×5 Matrix{Char}:\n",
       " 't'  'o'  't'  'e'  's'\n",
       " 'a'  'n'  'o'  'd'  'e'\n",
       " 'r'  'e'  'i'  'g'  'n'\n",
       " 'o'  'g'  'l'  'e'  'd'\n",
       " 's'  'a'  's'  's'  's'"
      ]
     },
     "metadata": {},
     "output_type": "display_data"
    },
    {
     "data": {
      "text/plain": [
       "5×5 Matrix{Char}:\n",
       " 't'  'o'  't'  'e'  's'\n",
       " 'a'  'n'  'o'  'd'  'e'\n",
       " 'r'  'e'  'i'  'g'  'n'\n",
       " 'o'  'g'  'l'  'e'  'd'\n",
       " 't'  'a'  's'  's'  's'"
      ]
     },
     "metadata": {},
     "output_type": "display_data"
    },
    {
     "data": {
      "text/plain": [
       "5×5 Matrix{Char}:\n",
       " 't'  'o'  't'  'e'  's'\n",
       " 'a'  'n'  'o'  'd'  'e'\n",
       " 's'  'e'  'r'  'g'  'e'\n",
       " 'k'  'i'  't'  'e'  'd'\n",
       " 's'  'l'  'e'  'd'  's'"
      ]
     },
     "metadata": {},
     "output_type": "display_data"
    },
    {
     "data": {
      "text/plain": [
       "5×5 Matrix{Char}:\n",
       " 't'  'o'  't'  'e'  's'\n",
       " 'a'  'n'  'o'  'd'  'e'\n",
       " 's'  'e'  'r'  'g'  'e'\n",
       " 's'  'i'  't'  'e'  'd'\n",
       " 's'  'l'  'e'  'd'  's'"
      ]
     },
     "metadata": {},
     "output_type": "display_data"
    },
    {
     "data": {
      "text/plain": [
       "5×5 Matrix{Char}:\n",
       " 't'  'o'  't'  'e'  's'\n",
       " 'a'  'n'  'o'  'd'  'e'\n",
       " 's'  'e'  'r'  'g'  'e'\n",
       " 's'  'a'  't'  'e'  'd'\n",
       " 's'  'l'  'e'  'd'  's'"
      ]
     },
     "metadata": {},
     "output_type": "display_data"
    },
    {
     "data": {
      "text/plain": [
       "5×5 Matrix{Char}:\n",
       " 't'  'o'  't'  'e'  's'\n",
       " 'a'  's'  'a'  'm'  'a'\n",
       " 'p'  'a'  'l'  'e'  'r'\n",
       " 'i'  'k'  'o'  'n'  's'\n",
       " 'r'  'a'  'n'  'd'  's'"
      ]
     },
     "metadata": {},
     "output_type": "display_data"
    },
    {
     "data": {
      "text/plain": [
       "5×5 Matrix{Char}:\n",
       " 't'  'o'  't'  'e'  's'\n",
       " 'a'  's'  'a'  'm'  'a'\n",
       " 's'  'i'  'r'  'e'  's'\n",
       " 'h'  'e'  'i'  'r'  's'\n",
       " 'a'  'r'  'm'  'y'  's'"
      ]
     },
     "metadata": {},
     "output_type": "display_data"
    },
    {
     "data": {
      "text/plain": [
       "5×5 Matrix{Char}:\n",
       " 't'  'o'  't'  'e'  's'\n",
       " 'a'  's'  'a'  'm'  'a'\n",
       " 'm'  'a'  'l'  'i'  's'\n",
       " 'i'  'g'  'o'  'r'  's'\n",
       " 'l'  'e'  'n'  's'  's'"
      ]
     },
     "metadata": {},
     "output_type": "display_data"
    },
    {
     "data": {
      "text/plain": [
       "5×5 Matrix{Char}:\n",
       " 't'  'o'  't'  'e'  's'\n",
       " 'a'  's'  'a'  'm'  'a'\n",
       " 'm'  'a'  'r'  'i'  's'\n",
       " 'i'  'g'  'o'  'r'  's'\n",
       " 'l'  'e'  's'  's'  's'"
      ]
     },
     "metadata": {},
     "output_type": "display_data"
    },
    {
     "data": {
      "text/plain": [
       "5×5 Matrix{Char}:\n",
       " 't'  'o'  't'  'e'  's'\n",
       " 'a'  's'  'a'  'm'  'a'\n",
       " 'c'  'a'  'l'  'm'  's'\n",
       " 'i'  'k'  'e'  'a'  's'\n",
       " 't'  'a'  's'  's'  's'"
      ]
     },
     "metadata": {},
     "output_type": "display_data"
    },
    {
     "data": {
      "text/plain": [
       "5×5 Matrix{Char}:\n",
       " 't'  'o'  't'  'e'  's'\n",
       " 'a'  's'  'a'  'm'  'a'\n",
       " 's'  'l'  'i'  'c'  'k'\n",
       " 't'  'o'  'n'  'e'  's'\n",
       " 'e'  's'  't'  'e'  's'"
      ]
     },
     "metadata": {},
     "output_type": "display_data"
    },
    {
     "data": {
      "text/plain": [
       "5×5 Matrix{Char}:\n",
       " 't'  'o'  't'  'e'  's'\n",
       " 'a'  's'  'a'  'm'  'a'\n",
       " 's'  'l'  'i'  'c'  'k'\n",
       " 'h'  'o'  'l'  'e'  's'\n",
       " 'a'  's'  's'  'e'  's'"
      ]
     },
     "metadata": {},
     "output_type": "display_data"
    },
    {
     "data": {
      "text/plain": [
       "5×5 Matrix{Char}:\n",
       " 't'  'o'  't'  'e'  's'\n",
       " 'a'  's'  'a'  'm'  'a'\n",
       " 'n'  'a'  'p'  'e'  's'\n",
       " 's'  'k'  'i'  'n'  's'\n",
       " 'y'  'a'  'r'  'd'  's'"
      ]
     },
     "metadata": {},
     "output_type": "display_data"
    },
    {
     "data": {
      "text/plain": [
       "5×5 Matrix{Char}:\n",
       " 't'  'o'  't'  'e'  's'\n",
       " 'a'  's'  'a'  'm'  'a'\n",
       " 'p'  'a'  'l'  'e'  's'\n",
       " 'i'  'k'  'o'  'n'  's'\n",
       " 'r'  'a'  'n'  'd'  's'"
      ]
     },
     "metadata": {},
     "output_type": "display_data"
    },
    {
     "data": {
      "text/plain": [
       "5×5 Matrix{Char}:\n",
       " 't'  'o'  't'  'e'  's'\n",
       " 'a'  's'  'a'  'm'  'a'\n",
       " 'p'  'a'  'l'  'e'  's'\n",
       " 'i'  'k'  'o'  'n'  's'\n",
       " 'r'  'a'  'n'  'd'  'y'"
      ]
     },
     "metadata": {},
     "output_type": "display_data"
    },
    {
     "data": {
      "text/plain": [
       "5×5 Matrix{Char}:\n",
       " 't'  'o'  't'  'e'  's'\n",
       " 'a'  's'  'a'  'm'  'a'\n",
       " 'l'  'a'  'm'  'b'  's'\n",
       " 'o'  'g'  'r'  'e'  's'\n",
       " 'n'  'e'  'a'  'r'  's'"
      ]
     },
     "metadata": {},
     "output_type": "display_data"
    },
    {
     "data": {
      "text/plain": [
       "5×5 Matrix{Char}:\n",
       " 't'  'o'  't'  'e'  's'\n",
       " 'a'  's'  'a'  'm'  'a'\n",
       " 's'  'i'  'l'  'o'  's'\n",
       " 't'  'e'  'e'  't'  'h'\n",
       " 'e'  'r'  's'  'e'  's'"
      ]
     },
     "metadata": {},
     "output_type": "display_data"
    },
    {
     "data": {
      "text/plain": [
       "5×5 Matrix{Char}:\n",
       " 't'  'o'  't'  'e'  's'\n",
       " 'a'  's'  'a'  'm'  'a'\n",
       " 'r'  'a'  'm'  'o'  'n'\n",
       " 'a'  'k'  'i'  't'  'a'\n",
       " 's'  'a'  'l'  'e'  's'"
      ]
     },
     "metadata": {},
     "output_type": "display_data"
    },
    {
     "data": {
      "text/plain": [
       "5×5 Matrix{Char}:\n",
       " 't'  'o'  't'  'e'  's'\n",
       " 'a'  's'  'a'  'm'  'a'\n",
       " 'm'  'a'  'l'  'e'  's'\n",
       " 'i'  'k'  'o'  'n'  's'\n",
       " 's'  'a'  'n'  'd'  's'"
      ]
     },
     "metadata": {},
     "output_type": "display_data"
    },
    {
     "data": {
      "text/plain": [
       "5×5 Matrix{Char}:\n",
       " 't'  'o'  't'  'e'  's'\n",
       " 'a'  's'  'a'  'm'  'a'\n",
       " 'm'  'a'  'l'  'e'  's'\n",
       " 'i'  'k'  'o'  'n'  's'\n",
       " 's'  'a'  'n'  'd'  'y'"
      ]
     },
     "metadata": {},
     "output_type": "display_data"
    },
    {
     "data": {
      "text/plain": [
       "5×5 Matrix{Char}:\n",
       " 't'  'o'  't'  'e'  's'\n",
       " 'a'  's'  'a'  'm'  'a'\n",
       " 'm'  'a'  'l'  'e'  's'\n",
       " 'i'  'k'  'o'  'n'  's'\n",
       " 'l'  'a'  'n'  'd'  's'"
      ]
     },
     "metadata": {},
     "output_type": "display_data"
    },
    {
     "data": {
      "text/plain": [
       "5×5 Matrix{Char}:\n",
       " 't'  'o'  't'  'e'  's'\n",
       " 'o'  'n'  'e'  'a'  'l'\n",
       " 't'  'e'  'n'  's'  'e'\n",
       " 'e'  'a'  's'  'e'  'd'\n",
       " 's'  'l'  'e'  'd'  's'"
      ]
     },
     "metadata": {},
     "output_type": "display_data"
    },
    {
     "data": {
      "text/plain": [
       "5×5 Matrix{Char}:\n",
       " 't'  'o'  't'  'e'  's'\n",
       " 'o'  'n'  'e'  'a'  'l'\n",
       " 'k'  'e'  'r'  'r'  'i'\n",
       " 'e'  'a'  'r'  'l'  'e'\n",
       " 's'  'l'  'i'  'e'  'r'"
      ]
     },
     "metadata": {},
     "output_type": "display_data"
    },
    {
     "data": {
      "text/plain": [
       "5×5 Matrix{Char}:\n",
       " 't'  'o'  't'  'e'  's'\n",
       " 'o'  'n'  'e'  'a'  'l'\n",
       " 'k'  'e'  'r'  'r'  'i'\n",
       " 'e'  'a'  'r'  'l'  'e'\n",
       " 's'  'l'  'y'  'e'  'r'"
      ]
     },
     "metadata": {},
     "output_type": "display_data"
    },
    {
     "data": {
      "text/plain": [
       "5×5 Matrix{Char}:\n",
       " 't'  'o'  't'  'e'  's'\n",
       " 'o'  'n'  'e'  'a'  'l'\n",
       " 't'  'e'  'r'  'r'  'a'\n",
       " 'e'  'a'  'r'  'p'  's'\n",
       " 's'  'l'  'a'  's'  'h'"
      ]
     },
     "metadata": {},
     "output_type": "display_data"
    },
    {
     "data": {
      "text/plain": [
       "5×5 Matrix{Char}:\n",
       " 't'  'o'  't'  'e'  's'\n",
       " 'o'  'n'  'e'  'a'  'l'\n",
       " 't'  'e'  'r'  'r'  'a'\n",
       " 'a'  'g'  'i'  'n'  'g'\n",
       " 'l'  'a'  's'  's'  's'"
      ]
     },
     "metadata": {},
     "output_type": "display_data"
    },
    {
     "data": {
      "text/plain": [
       "5×5 Matrix{Char}:\n",
       " 't'  'o'  't'  'e'  's'\n",
       " 'o'  'n'  'e'  'a'  'l'\n",
       " 't'  'e'  'r'  'r'  'a'\n",
       " 'e'  'a'  'r'  'l'  's'\n",
       " 's'  'l'  'a'  's'  'h'"
      ]
     },
     "metadata": {},
     "output_type": "display_data"
    },
    {
     "data": {
      "text/plain": [
       "5×5 Matrix{Char}:\n",
       " 't'  'o'  't'  'e'  's'\n",
       " 'o'  'n'  'e'  'a'  'l'\n",
       " 't'  'e'  'r'  'r'  'a'\n",
       " 'e'  'a'  'r'  'n'  's'\n",
       " 's'  'l'  'a'  's'  'h'"
      ]
     },
     "metadata": {},
     "output_type": "display_data"
    },
    {
     "data": {
      "text/plain": [
       "5×5 Matrix{Char}:\n",
       " 't'  'o'  't'  'e'  's'\n",
       " 'o'  'n'  'e'  'a'  'l'\n",
       " 't'  'e'  'r'  'r'  'a'\n",
       " 'e'  'a'  'r'  'l'  'y'\n",
       " 's'  'l'  'a'  'y'  's'"
      ]
     },
     "metadata": {},
     "output_type": "display_data"
    },
    {
     "data": {
      "text/plain": [
       "5×5 Matrix{Char}:\n",
       " 't'  'o'  't'  'e'  's'\n",
       " 'o'  'n'  'e'  'a'  'l'\n",
       " 'm'  'e'  'r'  'r'  'y'\n",
       " 'e'  'a'  'r'  'l'  'e'\n",
       " 's'  'l'  'i'  'e'  'r'"
      ]
     },
     "metadata": {},
     "output_type": "display_data"
    },
    {
     "data": {
      "text/plain": [
       "5×5 Matrix{Char}:\n",
       " 't'  'o'  't'  'e'  's'\n",
       " 'o'  'n'  'e'  'a'  'l'\n",
       " 'm'  'e'  'r'  'r'  'y'\n",
       " 'e'  'a'  'r'  'l'  'e'\n",
       " 's'  'l'  'y'  'e'  'r'"
      ]
     },
     "metadata": {},
     "output_type": "display_data"
    },
    {
     "data": {
      "text/plain": [
       "5×5 Matrix{Char}:\n",
       " 't'  'o'  't'  'e'  's'\n",
       " 'o'  'n'  'e'  'a'  'l'\n",
       " 'k'  'e'  'r'  'r'  'y'\n",
       " 'e'  'a'  'r'  'l'  'e'\n",
       " 's'  'l'  'i'  'e'  'r'"
      ]
     },
     "metadata": {},
     "output_type": "display_data"
    },
    {
     "data": {
      "text/plain": [
       "5×5 Matrix{Char}:\n",
       " 't'  'o'  't'  'e'  's'\n",
       " 'o'  'n'  'e'  'a'  'l'\n",
       " 'k'  'e'  'r'  'r'  'y'\n",
       " 'e'  'a'  'r'  'l'  'e'\n",
       " 's'  'l'  'y'  'e'  'r'"
      ]
     },
     "metadata": {},
     "output_type": "display_data"
    },
    {
     "data": {
      "text/plain": [
       "5×5 Matrix{Char}:\n",
       " 't'  'o'  't'  'e'  's'\n",
       " 'o'  'n'  'e'  'a'  'l'\n",
       " 't'  'e'  'r'  's'  'e'\n",
       " 'a'  'g'  'n'  'e'  'w'\n",
       " 'l'  'a'  's'  's'  's'"
      ]
     },
     "metadata": {},
     "output_type": "display_data"
    },
    {
     "data": {
      "text/plain": [
       "5×5 Matrix{Char}:\n",
       " 't'  'o'  't'  'e'  's'\n",
       " 'o'  'n'  'e'  'a'  'l'\n",
       " 't'  'e'  'r'  's'  'e'\n",
       " 'e'  'a'  's'  'e'  'd'\n",
       " 's'  'l'  'e'  'd'  's'"
      ]
     },
     "metadata": {},
     "output_type": "display_data"
    },
    {
     "data": {
      "text/plain": [
       "5×5 Matrix{Char}:\n",
       " 't'  'o'  't'  'e'  's'\n",
       " 'o'  'n'  'e'  'a'  'l'\n",
       " 't'  'e'  'a'  'r'  'y'\n",
       " 'e'  'a'  'r'  'l'  'e'\n",
       " 's'  'l'  'y'  'e'  'r'"
      ]
     },
     "metadata": {},
     "output_type": "display_data"
    },
    {
     "data": {
      "text/plain": [
       "5×5 Matrix{Char}:\n",
       " 't'  'o'  't'  'e'  's'\n",
       " 'o'  'n'  'e'  'a'  'l'\n",
       " 'n'  'e'  'r'  'v'  'e'\n",
       " 'a'  'g'  'n'  'e'  'w'\n",
       " 'l'  'a'  's'  's'  's'"
      ]
     },
     "metadata": {},
     "output_type": "display_data"
    },
    {
     "data": {
      "text/plain": [
       "5×5 Matrix{Char}:\n",
       " 't'  'o'  't'  'e'  's'\n",
       " 'o'  'n'  'e'  'a'  'l'\n",
       " 'r'  'e'  'e'  'v'  'e'\n",
       " 'a'  'g'  'n'  'e'  'w'\n",
       " 'h'  'a'  'y'  's'  's'"
      ]
     },
     "metadata": {},
     "output_type": "display_data"
    },
    {
     "data": {
      "text/plain": [
       "5×5 Matrix{Char}:\n",
       " 't'  'o'  't'  'e'  's'\n",
       " 'o'  'n'  'e'  'a'  'l'\n",
       " 'm'  'e'  'r'  'g'  'e'\n",
       " 'a'  'i'  's'  'l'  'e'\n",
       " 's'  'l'  'e'  'e'  't'"
      ]
     },
     "metadata": {},
     "output_type": "display_data"
    },
    {
     "data": {
      "text/plain": [
       "5×5 Matrix{Char}:\n",
       " 't'  'o'  't'  'e'  's'\n",
       " 'o'  'n'  'e'  'a'  'l'\n",
       " 'm'  'e'  'r'  'g'  'e'\n",
       " 'a'  'i'  's'  'l'  'e'\n",
       " 's'  'l'  'e'  'e'  'k'"
      ]
     },
     "metadata": {},
     "output_type": "display_data"
    },
    {
     "data": {
      "text/plain": [
       "5×5 Matrix{Char}:\n",
       " 't'  'o'  't'  'e'  's'\n",
       " 'o'  'n'  'e'  'a'  'l'\n",
       " 'm'  'e'  'r'  'g'  'e'\n",
       " 'a'  'i'  's'  'l'  'e'\n",
       " 's'  'l'  'e'  'e'  'p'"
      ]
     },
     "metadata": {},
     "output_type": "display_data"
    },
    {
     "data": {
      "text/plain": [
       "5×5 Matrix{Char}:\n",
       " 't'  'o'  't'  'e'  's'\n",
       " 'o'  'n'  'e'  'a'  'l'\n",
       " 't'  'e'  'r'  'r'  'y'\n",
       " 'e'  'a'  'r'  'l'  'e'\n",
       " 's'  'l'  'i'  'e'  'r'"
      ]
     },
     "metadata": {},
     "output_type": "display_data"
    },
    {
     "data": {
      "text/plain": [
       "5×5 Matrix{Char}:\n",
       " 't'  'o'  't'  'e'  's'\n",
       " 'o'  'n'  'e'  'a'  'l'\n",
       " 't'  'e'  'r'  'r'  'y'\n",
       " 'e'  'a'  'r'  'l'  'e'\n",
       " 's'  'l'  'y'  'e'  'r'"
      ]
     },
     "metadata": {},
     "output_type": "display_data"
    },
    {
     "data": {
      "text/plain": [
       "5×5 Matrix{Char}:\n",
       " 't'  'o'  't'  'e'  's'\n",
       " 'o'  'n'  'e'  'a'  'l'\n",
       " 't'  'e'  'r'  'r'  'y'\n",
       " 'a'  'g'  'i'  'l'  'e'\n",
       " 'l'  'a'  's'  'e'  'r'"
      ]
     },
     "metadata": {},
     "output_type": "display_data"
    },
    {
     "data": {
      "text/plain": [
       "5×5 Matrix{Char}:\n",
       " 't'  'o'  't'  'e'  's'\n",
       " 'o'  'n'  'e'  'a'  'l'\n",
       " 't'  'e'  'a'  's'  'e'\n",
       " 'o'  'g'  'l'  'e'  'd'\n",
       " 's'  'a'  's'  's'  's'"
      ]
     },
     "metadata": {},
     "output_type": "display_data"
    },
    {
     "data": {
      "text/plain": [
       "5×5 Matrix{Char}:\n",
       " 't'  'o'  't'  'e'  's'\n",
       " 'o'  'n'  'e'  'a'  'l'\n",
       " 't'  'e'  'a'  's'  'e'\n",
       " 'e'  'a'  's'  'e'  'd'\n",
       " 's'  'l'  'e'  'd'  's'"
      ]
     },
     "metadata": {},
     "output_type": "display_data"
    },
    {
     "data": {
      "text/plain": [
       "5×5 Matrix{Char}:\n",
       " 't'  'o'  't'  'e'  's'\n",
       " 'o'  'n'  'e'  'a'  'l'\n",
       " 'b'  'e'  'r'  'r'  'a'\n",
       " 'y'  'a'  'r'  'n'  's'\n",
       " 's'  'l'  'a'  's'  'h'"
      ]
     },
     "metadata": {},
     "output_type": "display_data"
    },
    {
     "data": {
      "text/plain": [
       "5×5 Matrix{Char}:\n",
       " 't'  'o'  't'  'e'  's'\n",
       " 'o'  'n'  'e'  'a'  'l'\n",
       " 's'  'e'  'r'  'v'  'o'\n",
       " 's'  'i'  'r'  'e'  's'\n",
       " 's'  'l'  'a'  's'  'h'"
      ]
     },
     "metadata": {},
     "output_type": "display_data"
    },
    {
     "data": {
      "text/plain": [
       "5×5 Matrix{Char}:\n",
       " 't'  'o'  't'  'e'  's'\n",
       " 'o'  'n'  'e'  'a'  'l'\n",
       " 'r'  'e'  'e'  's'  'e'\n",
       " 'a'  'g'  'n'  'e'  'w'\n",
       " 'h'  'a'  'y'  's'  's'"
      ]
     },
     "metadata": {},
     "output_type": "display_data"
    },
    {
     "data": {
      "text/plain": [
       "5×5 Matrix{Char}:\n",
       " 't'  'o'  't'  'e'  's'\n",
       " 'o'  'n'  'e'  'a'  'l'\n",
       " 'g'  'e'  'e'  's'  'e'\n",
       " 'a'  'g'  'n'  'e'  'w'\n",
       " 's'  'a'  's'  's'  's'"
      ]
     },
     "metadata": {},
     "output_type": "display_data"
    },
    {
     "data": {
      "text/plain": [
       "5×5 Matrix{Char}:\n",
       " 't'  'o'  't'  'e'  's'\n",
       " 'o'  'n'  'e'  'a'  'l'\n",
       " 't'  'e'  'r'  'r'  'i'\n",
       " 'e'  'a'  'r'  'l'  'e'\n",
       " 's'  'l'  'i'  'e'  'r'"
      ]
     },
     "metadata": {},
     "output_type": "display_data"
    },
    {
     "data": {
      "text/plain": [
       "5×5 Matrix{Char}:\n",
       " 't'  'o'  't'  'e'  's'\n",
       " 'o'  'n'  'e'  'a'  'l'\n",
       " 't'  'e'  'r'  'r'  'i'\n",
       " 'e'  'a'  'r'  'l'  'e'\n",
       " 's'  'l'  'y'  'e'  'r'"
      ]
     },
     "metadata": {},
     "output_type": "display_data"
    },
    {
     "data": {
      "text/plain": [
       "5×5 Matrix{Char}:\n",
       " 't'  'o'  't'  'e'  's'\n",
       " 'o'  'n'  'e'  'a'  'l'\n",
       " 't'  'e'  'r'  'r'  'i'\n",
       " 'a'  'g'  'i'  'l'  'e'\n",
       " 'l'  'a'  's'  'e'  'r'"
      ]
     },
     "metadata": {},
     "output_type": "display_data"
    },
    {
     "data": {
      "text/plain": [
       "5×5 Matrix{Char}:\n",
       " 't'  'o'  't'  'e'  's'\n",
       " 'o'  'n'  'e'  'a'  'l'\n",
       " 'g'  'e'  'n'  'r'  'e'\n",
       " 'a'  'i'  's'  'l'  'e'\n",
       " 's'  'l'  'e'  'e'  't'"
      ]
     },
     "metadata": {},
     "output_type": "display_data"
    },
    {
     "data": {
      "text/plain": [
       "5×5 Matrix{Char}:\n",
       " 't'  'o'  't'  'e'  's'\n",
       " 'o'  'n'  'e'  'a'  'l'\n",
       " 'g'  'e'  'n'  'r'  'e'\n",
       " 'a'  'i'  's'  'l'  'e'\n",
       " 's'  'l'  'e'  'e'  'k'"
      ]
     },
     "metadata": {},
     "output_type": "display_data"
    },
    {
     "data": {
      "text/plain": [
       "5×5 Matrix{Char}:\n",
       " 't'  'o'  't'  'e'  's'\n",
       " 'o'  'n'  'e'  'a'  'l'\n",
       " 'g'  'e'  'n'  'r'  'e'\n",
       " 'a'  'i'  's'  'l'  'e'\n",
       " 's'  'l'  'e'  'e'  'p'"
      ]
     },
     "metadata": {},
     "output_type": "display_data"
    },
    {
     "data": {
      "text/plain": [
       "5×5 Matrix{Char}:\n",
       " 't'  'o'  't'  'e'  's'\n",
       " 'o'  'n'  'e'  'a'  'l'\n",
       " 's'  'e'  'r'  'g'  'e'\n",
       " 'c'  'a'  'r'  'e'  'd'\n",
       " 'a'  'l'  'a'  'r'  's'"
      ]
     },
     "metadata": {},
     "output_type": "display_data"
    },
    {
     "data": {
      "text/plain": [
       "5×5 Matrix{Char}:\n",
       " 't'  'o'  't'  'e'  's'\n",
       " 'o'  'n'  'e'  'a'  'l'\n",
       " 't'  'e'  's'  's'  'a'\n",
       " 'o'  'a'  's'  'e'  's'\n",
       " 's'  'l'  'a'  's'  'h'"
      ]
     },
     "metadata": {},
     "output_type": "display_data"
    },
    {
     "data": {
      "text/plain": [
       "5×5 Matrix{Char}:\n",
       " 't'  'o'  't'  'e'  's'\n",
       " 'o'  'n'  'e'  'a'  'l'\n",
       " 't'  'e'  's'  's'  'a'\n",
       " 'e'  'a'  's'  't'  's'\n",
       " 's'  'l'  'a'  's'  'h'"
      ]
     },
     "metadata": {},
     "output_type": "display_data"
    },
    {
     "data": {
      "text/plain": [
       "5×5 Matrix{Char}:\n",
       " 't'  'o'  't'  'e'  's'\n",
       " 'o'  'n'  'e'  'a'  'l'\n",
       " 't'  'e'  's'  's'  'a'\n",
       " 'e'  'a'  's'  'e'  's'\n",
       " 's'  'l'  'a'  's'  'h'"
      ]
     },
     "metadata": {},
     "output_type": "display_data"
    },
    {
     "data": {
      "text/plain": [
       "5×5 Matrix{Char}:\n",
       " 't'  'o'  't'  'e'  's'\n",
       " 'o'  'n'  'e'  'a'  'l'\n",
       " 't'  'e'  's'  's'  'a'\n",
       " 'o'  'i'  's'  'e'  's'\n",
       " 's'  'l'  'a'  's'  'h'"
      ]
     },
     "metadata": {},
     "output_type": "display_data"
    },
    {
     "data": {
      "text/plain": [
       "5×5 Matrix{Char}:\n",
       " 't'  'o'  't'  'e'  's'\n",
       " 'e'  'a'  'r'  'l'  'e'\n",
       " 'r'  'h'  'e'  'u'  'm'\n",
       " 's'  'u'  'e'  'd'  'e'\n",
       " 'e'  's'  's'  'e'  'n'"
      ]
     },
     "metadata": {},
     "output_type": "display_data"
    },
    {
     "data": {
      "text/plain": [
       "5×5 Matrix{Char}:\n",
       " 't'  'o'  't'  'e'  's'\n",
       " 'e'  'a'  'r'  'l'  'e'\n",
       " 's'  't'  'o'  'l'  'e'\n",
       " 's'  'h'  't'  'i'  'k'\n",
       " 'a'  's'  'h'  'e'  's'"
      ]
     },
     "metadata": {},
     "output_type": "display_data"
    },
    {
     "data": {
      "text/plain": [
       "5×5 Matrix{Char}:\n",
       " 't'  'o'  't'  'e'  's'\n",
       " 'e'  'a'  'r'  'l'  'e'\n",
       " 's'  't'  'o'  'l'  'e'\n",
       " 's'  'h'  't'  'i'  'k'\n",
       " 'a'  's'  's'  'e'  's'"
      ]
     },
     "metadata": {},
     "output_type": "display_data"
    },
    {
     "data": {
      "text/plain": [
       "5×5 Matrix{Char}:\n",
       " 't'  'o'  't'  'e'  's'\n",
       " 'e'  'a'  'r'  'l'  'e'\n",
       " 's'  'h'  'a'  'v'  'e'\n",
       " 'l'  'u'  'c'  'i'  'd'\n",
       " 'a'  's'  'i'  'a'  's'"
      ]
     },
     "metadata": {},
     "output_type": "display_data"
    },
    {
     "data": {
      "text/plain": [
       "5×5 Matrix{Char}:\n",
       " 't'  'o'  't'  'e'  's'\n",
       " 'e'  'a'  'r'  'l'  'e'\n",
       " 's'  't'  'i'  'l'  'e'\n",
       " 's'  'h'  'e'  'i'  'k'\n",
       " 'a'  's'  's'  'e'  's'"
      ]
     },
     "metadata": {},
     "output_type": "display_data"
    },
    {
     "data": {
      "text/plain": [
       "5×5 Matrix{Char}:\n",
       " 't'  'o'  't'  'e'  's'\n",
       " 'a'  'g'  'i'  'l'  'e'\n",
       " 's'  'l'  'a'  't'  'e'\n",
       " 'h'  'e'  'r'  'o'  'd'\n",
       " 'a'  'd'  'a'  'n'  's'"
      ]
     },
     "metadata": {},
     "output_type": "display_data"
    },
    {
     "data": {
      "text/plain": [
       "5×5 Matrix{Char}:\n",
       " 't'  'o'  't'  'e'  's'\n",
       " 'o'  'v'  'a'  'r'  'y'\n",
       " 'r'  'u'  'b'  'i'  'n'\n",
       " 'c'  'l'  'u'  'n'  'g'\n",
       " 'h'  'e'  's'  's'  'e'"
      ]
     },
     "metadata": {},
     "output_type": "display_data"
    },
    {
     "data": {
      "text/plain": [
       "5×5 Matrix{Char}:\n",
       " 't'  'o'  't'  'e'  's'\n",
       " 's'  'w'  'a'  'm'  'i'\n",
       " 'a'  'l'  'l'  'a'  'n'\n",
       " 'r'  'e'  'l'  'i'  'c'\n",
       " 's'  't'  'y'  'l'  'e'"
      ]
     },
     "metadata": {},
     "output_type": "display_data"
    },
    {
     "data": {
      "text/plain": [
       "5×5 Matrix{Char}:\n",
       " 't'  'o'  't'  'e'  's'\n",
       " 'r'  'u'  'r'  'a'  'l'\n",
       " 'a'  't'  'a'  'r'  'i'\n",
       " 'i'  'd'  'y'  'l'  'l'\n",
       " 'n'  'o'  's'  'e'  'y'"
      ]
     },
     "metadata": {},
     "output_type": "display_data"
    },
    {
     "data": {
      "text/plain": [
       "5×5 Matrix{Char}:\n",
       " 't'  'o'  't'  'e'  's'\n",
       " 'r'  'u'  'r'  'a'  'l'\n",
       " 'u'  't'  'e'  'r'  'i'\n",
       " 'e'  'g'  'y'  'p'  't'\n",
       " 'r'  'o'  's'  's'  's'"
      ]
     },
     "metadata": {},
     "output_type": "display_data"
    },
    {
     "data": {
      "text/plain": [
       "5×5 Matrix{Char}:\n",
       " 't'  'o'  't'  'e'  's'\n",
       " 'e'  'v'  'i'  'a'  'n'\n",
       " 'm'  'u'  'n'  'r'  'o'\n",
       " 'p'  'l'  'a'  'n'  't'\n",
       " 't'  'e'  's'  's'  's'"
      ]
     },
     "metadata": {},
     "output_type": "display_data"
    },
    {
     "data": {
      "text/plain": [
       "5×5 Matrix{Char}:\n",
       " 't'  'o'  't'  'e'  's'\n",
       " 'e'  'v'  'i'  'a'  'n'\n",
       " 'm'  'o'  't'  't'  'o'\n",
       " 'p'  'i'  'l'  'o'  't'\n",
       " 'e'  'd'  'e'  'n'  's'"
      ]
     },
     "metadata": {},
     "output_type": "display_data"
    },
    {
     "data": {
      "text/plain": [
       "5×5 Matrix{Char}:\n",
       " 't'  'o'  't'  'e'  's'\n",
       " 'u'  'r'  'i'  'a'  'h'\n",
       " 'b'  'a'  's'  's'  'i'\n",
       " 'e'  't'  'h'  'e'  'r'\n",
       " 'd'  'e'  'a'  'l'  't'"
      ]
     },
     "metadata": {},
     "output_type": "display_data"
    },
    {
     "data": {
      "text/plain": [
       "5×5 Matrix{Char}:\n",
       " 't'  'o'  't'  'e'  's'\n",
       " 'u'  'r'  'i'  'a'  'h'\n",
       " 'b'  'a'  'g'  'g'  'y'\n",
       " 'e'  't'  'h'  'e'  'l'\n",
       " 'r'  'e'  't'  'r'  'y'"
      ]
     },
     "metadata": {},
     "output_type": "display_data"
    },
    {
     "data": {
      "text/plain": [
       "5×5 Matrix{Char}:\n",
       " 't'  'o'  't'  'e'  's'\n",
       " 'u'  'r'  'i'  'a'  'h'\n",
       " 'l'  'i'  'b'  'r'  'a'\n",
       " 'l'  'y'  'e'  'l'  'l'\n",
       " 's'  'a'  'r'  'e'  'e'"
      ]
     },
     "metadata": {},
     "output_type": "display_data"
    },
    {
     "data": {
      "text/plain": [
       "5×5 Matrix{Char}:\n",
       " 't'  'o'  't'  'e'  's'\n",
       " 'u'  'r'  'i'  'a'  'h'\n",
       " 'b'  'a'  's'  's'  'o'\n",
       " 'e'  't'  'h'  'e'  'r'\n",
       " 'd'  'e'  'a'  'l'  't'"
      ]
     },
     "metadata": {},
     "output_type": "display_data"
    },
    {
     "data": {
      "text/plain": [
       "5×5 Matrix{Char}:\n",
       " 't'  'o'  't'  'e'  's'\n",
       " 'a'  'r'  'e'  'n'  'a'\n",
       " 'm'  'e'  'a'  'd'  's'\n",
       " 'r'  'o'  'k'  'u'  's'\n",
       " 'a'  's'  's'  'e'  's'"
      ]
     },
     "metadata": {},
     "output_type": "display_data"
    },
    {
     "data": {
      "text/plain": [
       "5×5 Matrix{Char}:\n",
       " 't'  'o'  't'  'e'  's'\n",
       " 'a'  'r'  'e'  'n'  'a'\n",
       " 'm'  'i'  'n'  'e'  's'\n",
       " 'r'  'o'  'o'  'm'  's'\n",
       " 'a'  'n'  'n'  'a'  's'"
      ]
     },
     "metadata": {},
     "output_type": "display_data"
    },
    {
     "data": {
      "text/plain": [
       "5×5 Matrix{Char}:\n",
       " 't'  'o'  't'  'e'  's'\n",
       " 'a'  'r'  'e'  'n'  'a'\n",
       " 'm'  'i'  'r'  'o'  's'\n",
       " 'm'  'o'  's'  's'  's'\n",
       " 'i'  'n'  'e'  's'  's'"
      ]
     },
     "metadata": {},
     "output_type": "display_data"
    },
    {
     "data": {
      "text/plain": [
       "5×5 Matrix{Char}:\n",
       " 't'  'o'  't'  'e'  's'\n",
       " 'a'  'r'  'e'  'n'  'a'\n",
       " 'm'  'i'  'n'  'e'  'r'\n",
       " 'r'  'o'  'o'  'm'  's'\n",
       " 'a'  'n'  'n'  'a'  's'"
      ]
     },
     "metadata": {},
     "output_type": "display_data"
    },
    {
     "data": {
      "text/plain": [
       "5×5 Matrix{Char}:\n",
       " 't'  'o'  't'  'e'  's'\n",
       " 'a'  'r'  'e'  'n'  'a'\n",
       " 'm'  'i'  'n'  't'  's'\n",
       " 'm'  'y'  'e'  'r'  's'\n",
       " 'y'  'a'  't'  'e'  's'"
      ]
     },
     "metadata": {},
     "output_type": "display_data"
    },
    {
     "data": {
      "text/plain": [
       "5×5 Matrix{Char}:\n",
       " 't'  'o'  't'  'e'  's'\n",
       " 'a'  'r'  'e'  'n'  'a'\n",
       " 't'  'i'  'n'  't'  's'\n",
       " 'a'  'y'  'e'  'r'  's'\n",
       " 'r'  'a'  't'  'e'  's'"
      ]
     },
     "metadata": {},
     "output_type": "display_data"
    },
    {
     "data": {
      "text/plain": [
       "5×5 Matrix{Char}:\n",
       " 't'  'o'  't'  'e'  's'\n",
       " 'a'  'r'  'e'  'n'  'a'\n",
       " 'm'  'i'  'n'  'u'  's'\n",
       " 'm'  'y'  'e'  'r'  's'\n",
       " 'y'  'a'  't'  'e'  's'"
      ]
     },
     "metadata": {},
     "output_type": "display_data"
    },
    {
     "data": {
      "text/plain": [
       "5×5 Matrix{Char}:\n",
       " 't'  'o'  't'  'e'  's'\n",
       " 'a'  'r'  'e'  'n'  'a'\n",
       " 'b'  'i'  'r'  'd'  's'\n",
       " 'l'  'o'  'r'  'e'  's'\n",
       " 'e'  'n'  'i'  'd'  's'"
      ]
     },
     "metadata": {},
     "output_type": "display_data"
    },
    {
     "data": {
      "text/plain": [
       "5×5 Matrix{Char}:\n",
       " 't'  'o'  't'  'e'  's'\n",
       " 'a'  'r'  'e'  'n'  'a'\n",
       " 'm'  'i'  'x'  'e'  'r'\n",
       " 'r'  'o'  'a'  'm'  's'\n",
       " 'a'  'n'  'n'  'a'  's'"
      ]
     },
     "metadata": {},
     "output_type": "display_data"
    },
    {
     "data": {
      "text/plain": [
       "5×5 Matrix{Char}:\n",
       " 't'  'o'  't'  'e'  's'\n",
       " 'a'  'r'  'e'  'n'  'a'\n",
       " 'e'  'g'  'r'  'e'  't'\n",
       " 'g'  'a'  'm'  'm'  'a'\n",
       " 'u'  'n'  's'  'a'  'y'"
      ]
     },
     "metadata": {},
     "output_type": "display_data"
    },
    {
     "data": {
      "text/plain": [
       "5×5 Matrix{Char}:\n",
       " 't'  'o'  't'  'e'  's'\n",
       " 'a'  'r'  'e'  'n'  'a'\n",
       " 'm'  'a'  'n'  'e'  's'\n",
       " 'i'  't'  'e'  'm'  's'\n",
       " 'l'  'e'  't'  'a'  's'"
      ]
     },
     "metadata": {},
     "output_type": "display_data"
    },
    {
     "data": {
      "text/plain": [
       "5×5 Matrix{Char}:\n",
       " 't'  'o'  't'  'e'  's'\n",
       " 'a'  'r'  'e'  'n'  'a'\n",
       " 's'  'v'  'r'  'e'  's'\n",
       " 'h'  'a'  'r'  'm'  's'\n",
       " 'a'  'l'  'i'  'a'  's'"
      ]
     },
     "metadata": {},
     "output_type": "display_data"
    },
    {
     "data": {
      "text/plain": [
       "5×5 Matrix{Char}:\n",
       " 't'  'o'  't'  'e'  's'\n",
       " 'a'  'r'  'e'  'n'  'a'\n",
       " 'm'  'i'  'x'  'e'  's'\n",
       " 'r'  'o'  'a'  'm'  's'\n",
       " 'a'  'n'  'n'  'a'  's'"
      ]
     },
     "metadata": {},
     "output_type": "display_data"
    },
    {
     "data": {
      "text/plain": [
       "5×5 Matrix{Char}:\n",
       " 't'  'o'  't'  'e'  's'\n",
       " 'a'  'r'  'e'  'n'  'a'\n",
       " 'l'  'i'  's'  't'  's'\n",
       " 'k'  'y'  'l'  'e'  's'\n",
       " 's'  'a'  'a'  'r'  's'"
      ]
     },
     "metadata": {},
     "output_type": "display_data"
    },
    {
     "name": "stdout",
     "output_type": "stream",
     "text": [
      " 12.167819 seconds (114.06 M allocations: 10.170 GiB, 9.21% gc time, 3.27% compilation time)\n"
     ]
    }
   ],
   "source": [
    "result = let\n",
    "    words = Set(filter(w -> length(w) == 5, \n",
    "                map(w -> replace(lowercase(w), r\"[^a-z]\" => \"\"), \n",
    "                    open(readlines, \"/usr/share/dict/words\"))))\n",
    "    partials = Set([collect(w)[1:i] for w in words for i in 1:length(w)])\n",
    "    \n",
    "    function evaluate(state)\n",
    "        grid, rows = state\n",
    "        ok = rows == 0 || all(i -> @view(grid[1:rows, i]) in partials, 1:size(grid, 2))\n",
    "        if !ok\n",
    "            return :bad\n",
    "        else\n",
    "            if rows == size(grid, 1)\n",
    "                return :done\n",
    "            else\n",
    "                return :partial\n",
    "            end\n",
    "        end\n",
    "    end\n",
    "    \n",
    "    function children(state)\n",
    "        grid, rows = state\n",
    "        \n",
    "        function apply!(grid, word, row)\n",
    "            grid[row, :] .= codeunits(word)\n",
    "            grid, row\n",
    "        end\n",
    "        \n",
    "        (apply!(copy(grid), word, rows + 1) for word in words)\n",
    "    end\n",
    "    \n",
    "    start = (fill(' ', 5, 5), 0)\n",
    "    @time collect(Iterators.take(lazy_dfs(start, children, evaluate), 100))\n",
    "end\n",
    "for m in first.(last.(result))\n",
    "    display(m)\n",
    "end"
   ]
  },
  {
   "cell_type": "code",
   "execution_count": 59,
   "id": "b97ab0e7",
   "metadata": {},
   "outputs": [
    {
     "data": {
      "text/plain": [
       "5×5 Matrix{Char}:\n",
       " 't'  'o'  't'  'e'  's'\n",
       " 'e'  'b'  'o'  'l'  'a'\n",
       " 'n'  'a'  't'  'e'  's'\n",
       " 'o'  'm'  'e'  'n'  's'\n",
       " 'r'  'a'  'm'  'a'  's'"
      ]
     },
     "metadata": {},
     "output_type": "display_data"
    },
    {
     "data": {
      "text/plain": [
       "5×5 Matrix{Char}:\n",
       " 't'  'o'  't'  'e'  's'\n",
       " 'e'  'b'  'o'  'l'  'a'\n",
       " 'n'  'a'  'n'  'a'  'k'\n",
       " 'o'  'm'  'i'  't'  's'\n",
       " 'r'  'a'  'c'  'e'  's'"
      ]
     },
     "metadata": {},
     "output_type": "display_data"
    },
    {
     "data": {
      "text/plain": [
       "5×5 Matrix{Char}:\n",
       " 't'  'o'  't'  'e'  's'\n",
       " 'o'  'p'  'i'  'u'  'm'\n",
       " 'm'  'e'  't'  'r'  'o'\n",
       " 'b'  'r'  'o'  'o'  'k'\n",
       " 's'  'a'  's'  's'  'y'"
      ]
     },
     "metadata": {},
     "output_type": "display_data"
    },
    {
     "data": {
      "text/plain": [
       "5×5 Matrix{Char}:\n",
       " 't'  'o'  't'  'e'  's'\n",
       " 'o'  'p'  'r'  'a'  'h'\n",
       " 'm'  'e'  'u'  's'  'e'\n",
       " 'b'  'r'  'e'  'e'  'd'\n",
       " 's'  'a'  'r'  's'  's'"
      ]
     },
     "metadata": {},
     "output_type": "display_data"
    },
    {
     "data": {
      "text/plain": [
       "5×5 Matrix{Char}:\n",
       " 't'  'o'  't'  'e'  's'\n",
       " 'o'  'p'  'r'  'a'  'h'\n",
       " 'm'  'e'  'u'  's'  'e'\n",
       " 'b'  'r'  'e'  'e'  'd'\n",
       " 's'  'a'  's'  's'  's'"
      ]
     },
     "metadata": {},
     "output_type": "display_data"
    },
    {
     "name": "stdout",
     "output_type": "stream",
     "text": [
      "  3.754201 seconds (63.73 M allocations: 3.044 GiB, 17.76% gc time, 9.10% compilation time)\n"
     ]
    }
   ],
   "source": [
    "result = let\n",
    "    words = Set(filter(w -> length(w) == 5, \n",
    "                map(w -> replace(lowercase(w), r\"[^a-z]\" => \"\"), \n",
    "                    open(readlines, \"/usr/share/dict/words\"))))\n",
    "    partials = Set([collect(w)[1:i] for w in words for i in 1:length(w)])\n",
    "    \n",
    "    function evaluate(state)\n",
    "        grid, rows, cols = state\n",
    "        if cols > 0\n",
    "            for row in (rows+1):size(grid, 1)\n",
    "                if @view(grid[row, 1:cols]) ∉ partials\n",
    "                    return :bad\n",
    "                end\n",
    "            end\n",
    "        end\n",
    "        if rows > 0\n",
    "            for col in (cols+1):size(grid, 2)\n",
    "                if @view(grid[1:rows, col]) ∉ partials\n",
    "                    return :bad\n",
    "                end\n",
    "            end\n",
    "        end\n",
    "        for row in 1:rows\n",
    "            for col in 1:cols\n",
    "                if @view(grid[row, :]) == @view(grid[:, col])\n",
    "                    return :bad\n",
    "                end\n",
    "            end\n",
    "        end\n",
    "        if rows == size(grid, 1)\n",
    "            return :done\n",
    "        else\n",
    "            return :partial\n",
    "        end\n",
    "    end\n",
    "    \n",
    "    function children(state)\n",
    "        grid, rows, cols = state\n",
    "        \n",
    "        Channel{typeof(state)}() do channel\n",
    "            if rows > cols\n",
    "                for word in words\n",
    "                    if word[1:rows] == join(@view(grid[1:rows, cols+1]))\n",
    "                        grid[:, cols + 1] .= collect(word)\n",
    "                        put!(channel, (copy(grid), rows, cols + 1))\n",
    "                    end\n",
    "                end\n",
    "            else\n",
    "                for word in words\n",
    "                    if word[1:cols] == join(@view(grid[rows+1, 1:cols]))\n",
    "                        grid[rows + 1, :] .= collect(word)\n",
    "                        put!(channel, (copy(grid), rows + 1, cols))\n",
    "                    end\n",
    "                end\n",
    "            end\n",
    "        end\n",
    "    end\n",
    "    \n",
    "    start = (fill(' ', 5, 5), 0, 0)\n",
    "    @time collect(Iterators.take(lazy_dfs(start, children, evaluate), 5))\n",
    "end\n",
    "for m in first.(last.(result))\n",
    "    display(m)\n",
    "end"
   ]
  },
  {
   "cell_type": "code",
   "execution_count": 64,
   "id": "3794d3e3",
   "metadata": {},
   "outputs": [],
   "source": [
    "using DataStructures"
   ]
  },
  {
   "cell_type": "code",
   "execution_count": 67,
   "id": "0c70718a",
   "metadata": {},
   "outputs": [],
   "source": [
    "words_trie = Trie{Nothing}()\n",
    "for word in words\n",
    "    words_trie[word] = nothing\n",
    "end"
   ]
  },
  {
   "cell_type": "code",
   "execution_count": 88,
   "id": "604d460c",
   "metadata": {},
   "outputs": [
    {
     "data": {
      "text/plain": [
       "Trie{Nothing}(nothing, Dict{Char, Trie{Nothing}}('a' => Trie{Nothing}(nothing, Dict{Char, Trie{Nothing}}('l' => Trie{Nothing}(nothing, Dict{Char, Trie{Nothing}}(), true)), false), 'e' => Trie{Nothing}(nothing, Dict{Char, Trie{Nothing}}('s' => Trie{Nothing}(nothing, Dict{Char, Trie{Nothing}}(), true), 'd' => Trie{Nothing}(nothing, Dict{Char, Trie{Nothing}}(), true), 'm' => Trie{Nothing}(nothing, Dict{Char, Trie{Nothing}}(), true)), false), 'o' => Trie{Nothing}(nothing, Dict{Char, Trie{Nothing}}('s' => Trie{Nothing}(nothing, Dict{Char, Trie{Nothing}}(), true)), false)), false)"
      ]
     },
     "execution_count": 88,
     "metadata": {},
     "output_type": "execute_result"
    }
   ],
   "source": [
    "subtrie(words_trie, \"tot\")"
   ]
  },
  {
   "cell_type": "code",
   "execution_count": 90,
   "id": "6584cd26",
   "metadata": {},
   "outputs": [
    {
     "data": {
      "text/plain": [
       "Nothing"
      ]
     },
     "execution_count": 90,
     "metadata": {},
     "output_type": "execute_result"
    }
   ],
   "source": [
    "typeof(subtrie(words_trie, \"txt\"))"
   ]
  },
  {
   "cell_type": "code",
   "execution_count": 87,
   "id": "a896bab9",
   "metadata": {},
   "outputs": [],
   "source": [
    "@edit subtrie(words_trie, \"tot\")"
   ]
  },
  {
   "cell_type": "code",
   "execution_count": 81,
   "id": "b639663a",
   "metadata": {},
   "outputs": [
    {
     "name": "stdout",
     "output_type": "stream",
     "text": [
      "  0.000005 seconds\n"
     ]
    },
    {
     "data": {
      "text/plain": [
       "false"
      ]
     },
     "execution_count": 81,
     "metadata": {},
     "output_type": "execute_result"
    }
   ],
   "source": [
    "@time(haskey(words_trie, \"t\"))"
   ]
  },
  {
   "cell_type": "code",
   "execution_count": 74,
   "id": "2d41c717",
   "metadata": {},
   "outputs": [
    {
     "data": {
      "text/plain": [
       "6766-element Vector{AbstractString}:\n",
       " \"nanny\"\n",
       " \"nanak\"\n",
       " \"nancy\"\n",
       " \"nadia\"\n",
       " \"nadir\"\n",
       " \"nader\"\n",
       " \"naomi\"\n",
       " \"nahum\"\n",
       " \"nashs\"\n",
       " \"nasal\"\n",
       " \"nasty\"\n",
       " \"naive\"\n",
       " \"naiad\"\n",
       " ⋮\n",
       " \"bread\"\n",
       " \"break\"\n",
       " \"brest\"\n",
       " \"brets\"\n",
       " \"brett\"\n",
       " \"breed\"\n",
       " \"byway\"\n",
       " \"bylaw\"\n",
       " \"bytes\"\n",
       " \"byrds\"\n",
       " \"byron\"\n",
       " \"byers\""
      ]
     },
     "execution_count": 74,
     "metadata": {},
     "output_type": "execute_result"
    }
   ],
   "source": [
    "keys(words_trie)"
   ]
  },
  {
   "cell_type": "code",
   "execution_count": 93,
   "id": "5eab686b",
   "metadata": {},
   "outputs": [
    {
     "data": {
      "text/plain": [
       "iterable_keys (generic function with 2 methods)"
      ]
     },
     "execution_count": 93,
     "metadata": {},
     "output_type": "execute_result"
    }
   ],
   "source": [
    "function put_keys!(channel::Channel, trie::Trie, prefix::AbstractString)\n",
    "    if trie.is_key\n",
    "        put!(channel, prefix)\n",
    "    end\n",
    "    for (char, child) in trie.children\n",
    "        put_keys!(channel, child, string(prefix, char))\n",
    "    end\n",
    "end\n",
    "\n",
    "function iterable_keys(trie::Trie, prefix::AbstractString=\"\")\n",
    "    Channel{String}() do channel\n",
    "        put_keys!(channel, trie, prefix)\n",
    "    end\n",
    "end\n",
    "        "
   ]
  },
  {
   "cell_type": "code",
   "execution_count": 101,
   "id": "bd59e7b6",
   "metadata": {},
   "outputs": [],
   "source": [
    "using BenchmarkTools\n",
    "\n",
    "@btime collect(iterable_keys($(subtrie(words_trie, \"he\")), \"he\"));\n",
    "\n",
    "@btime keys($(subtrie(words_trie, \"he\")), \"he\");"
   ]
  },
  {
   "cell_type": "code",
   "execution_count": 1,
   "id": "c7dce936",
   "metadata": {},
   "outputs": [
    {
     "data": {
      "text/plain": [
       "Tuple{Pair{Char, String}, Int64}"
      ]
     },
     "execution_count": 1,
     "metadata": {},
     "output_type": "execute_result"
    }
   ],
   "source": [
    "d = Dict{Char, String}('c' => \"c\")\n",
    "typeof(iterate(d))"
   ]
  }
 ],
 "metadata": {
  "@webio": {
   "lastCommId": null,
   "lastKernelId": null
  },
  "kernelspec": {
   "display_name": "Julia 1.7.1",
   "language": "julia",
   "name": "julia-1.7"
  },
  "language_info": {
   "file_extension": ".jl",
   "mimetype": "application/julia",
   "name": "julia",
   "version": "1.7.1"
  }
 },
 "nbformat": 4,
 "nbformat_minor": 5
}
