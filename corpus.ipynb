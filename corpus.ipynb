{
 "cells": [
  {
   "cell_type": "code",
   "execution_count": 1,
   "id": "8bccbc5c",
   "metadata": {},
   "outputs": [
    {
     "name": "stderr",
     "output_type": "stream",
     "text": [
      "\u001b[32m\u001b[1m  Activating\u001b[22m\u001b[39m project at `~/Projects/PuzzleTools.jl`\n"
     ]
    }
   ],
   "source": [
    "]activate ."
   ]
  },
  {
   "cell_type": "code",
   "execution_count": 15,
   "id": "2c89cdc9",
   "metadata": {},
   "outputs": [],
   "source": [
    "using PuzzleTools: Corpus, entries_with_prefix, is_valid_prefix\n",
    "using BenchmarkTools"
   ]
  },
  {
   "cell_type": "code",
   "execution_count": 7,
   "id": "35882a13",
   "metadata": {},
   "outputs": [
    {
     "data": {
      "text/plain": [
       "Corpus([\"a\", \"a\", \"a's\", \"aachen\", \"aachen's\", \"aaliyah\", \"aaliyah's\", \"aardvark\", \"aardvark's\", \"aardvarks\"  …  \"élan's\", \"émigré\", \"émigré's\", \"émigrés\", \"épée\", \"épée's\", \"épées\", \"étude\", \"étude's\", \"études\"], Set([\"rearrangement\", \"pintoes\", \"copacabana's\", \"dial's\", \"inattentive\", \"pewee's\", \"photosynthesis\", \"sleepwalking\", \"caring's\", \"henry\"  …  \"congesting\", \"firetrap's\", \"affidavit's\", \"gray's\", \"boater\", \"deli's\", \"vituperates\", \"overtaxing\", \"graybeard\", \"barrenest\"]))"
      ]
     },
     "execution_count": 7,
     "metadata": {},
     "output_type": "execute_result"
    }
   ],
   "source": [
    "corpus = Corpus(lowercase.(open(readlines, \"/usr/share/dict/words\")))"
   ]
  },
  {
   "cell_type": "code",
   "execution_count": 8,
   "id": "38b70418",
   "metadata": {},
   "outputs": [
    {
     "data": {
      "text/plain": [
       "true"
      ]
     },
     "execution_count": 8,
     "metadata": {},
     "output_type": "execute_result"
    }
   ],
   "source": [
    "is_valid_prefix(corpus, \"grav\")"
   ]
  },
  {
   "cell_type": "code",
   "execution_count": 31,
   "id": "d902b3a6",
   "metadata": {},
   "outputs": [
    {
     "data": {
      "text/plain": [
       "next_string (generic function with 1 method)"
      ]
     },
     "execution_count": 31,
     "metadata": {},
     "output_type": "execute_result"
    }
   ],
   "source": [
    "\n",
    "function next_string(s::AbstractString)\n",
    "    c = last(s)\n",
    "    string(s[1:prevind(s, end)], c + 1)\n",
    "end"
   ]
  },
  {
   "cell_type": "code",
   "execution_count": 32,
   "id": "3279585c",
   "metadata": {},
   "outputs": [
    {
     "name": "stdout",
     "output_type": "stream",
     "text": [
      "  99.998 ns (4 allocations: 128 bytes)\n"
     ]
    },
    {
     "data": {
      "text/plain": [
       "\"graw\""
      ]
     },
     "execution_count": 32,
     "metadata": {},
     "output_type": "execute_result"
    }
   ],
   "source": [
    "@btime next_string($(\"grav\"))"
   ]
  },
  {
   "cell_type": "code",
   "execution_count": 33,
   "id": "62220630",
   "metadata": {},
   "outputs": [
    {
     "data": {
      "text/plain": [
       "\"grav\""
      ]
     },
     "execution_count": 33,
     "metadata": {},
     "output_type": "execute_result"
    }
   ],
   "source": [
    "s = \"grav\""
   ]
  },
  {
   "cell_type": "code",
   "execution_count": 34,
   "id": "897b8f94",
   "metadata": {},
   "outputs": [
    {
     "data": {
      "text/plain": [
       "4-element Base.CodeUnits{UInt8, String}:\n",
       " 0x67\n",
       " 0x72\n",
       " 0x61\n",
       " 0x76"
      ]
     },
     "execution_count": 34,
     "metadata": {},
     "output_type": "execute_result"
    }
   ],
   "source": [
    "c = codeunits(s)"
   ]
  },
  {
   "cell_type": "code",
   "execution_count": 36,
   "id": "1e07314e",
   "metadata": {},
   "outputs": [],
   "source": [
    "@edit codeunits(s)"
   ]
  },
  {
   "cell_type": "code",
   "execution_count": 38,
   "id": "07e5e376",
   "metadata": {},
   "outputs": [
    {
     "data": {
      "text/plain": [
       "\"hello\""
      ]
     },
     "execution_count": 38,
     "metadata": {},
     "output_type": "execute_result"
    }
   ],
   "source": [
    "String(Vector{UInt8}(\"hello\"))"
   ]
  },
  {
   "cell_type": "code",
   "execution_count": 39,
   "id": "330df7c0",
   "metadata": {},
   "outputs": [
    {
     "name": "stdout",
     "output_type": "stream",
     "text": [
      "  63.103 ns (2 allocations: 96 bytes)\n"
     ]
    },
    {
     "data": {
      "text/plain": [
       "\"hello\""
      ]
     },
     "execution_count": 39,
     "metadata": {},
     "output_type": "execute_result"
    }
   ],
   "source": [
    "@btime String(Vector{UInt8}($(\"hello\")))"
   ]
  },
  {
   "cell_type": "code",
   "execution_count": 40,
   "id": "16518812",
   "metadata": {},
   "outputs": [],
   "source": [
    "@edit String(UInt8[])"
   ]
  },
  {
   "cell_type": "code",
   "execution_count": 35,
   "id": "6045adf3",
   "metadata": {},
   "outputs": [
    {
     "ename": "LoadError",
     "evalue": "setindex! not defined for Base.CodeUnits{UInt8, String}",
     "output_type": "error",
     "traceback": [
      "setindex! not defined for Base.CodeUnits{UInt8, String}",
      "",
      "Stacktrace:",
      " [1] error(::String, ::Type)",
      "   @ Base ./error.jl:42",
      " [2] error_if_canonical_setindex(#unused#::IndexLinear, A::Base.CodeUnits{UInt8, String}, #unused#::Int64)",
      "   @ Base ./abstractarray.jl:1323",
      " [3] setindex!(A::Base.CodeUnits{UInt8, String}, v::Int64, I::Int64)",
      "   @ Base ./abstractarray.jl:1314",
      " [4] top-level scope",
      "   @ In[35]:1",
      " [5] eval",
      "   @ ./boot.jl:373 [inlined]",
      " [6] include_string(mapexpr::typeof(REPL.softscope), mod::Module, code::String, filename::String)",
      "   @ Base ./loading.jl:1196"
     ]
    }
   ],
   "source": [
    "c[end] += 1"
   ]
  },
  {
   "cell_type": "code",
   "execution_count": 29,
   "id": "59f3ed0d",
   "metadata": {},
   "outputs": [
    {
     "name": "stdout",
     "output_type": "stream",
     "text": [
      "  254.668 ns (4 allocations: 128 bytes)\n"
     ]
    },
    {
     "data": {
      "text/plain": [
       "37-element view(::Vector{String}, 38925:38961) with eltype String:\n",
       " \"grave\"\n",
       " \"grave's\"\n",
       " \"graved\"\n",
       " \"gravel\"\n",
       " \"gravel's\"\n",
       " \"graveled\"\n",
       " \"graveling\"\n",
       " \"gravelled\"\n",
       " \"gravelling\"\n",
       " \"gravelly\"\n",
       " \"gravels\"\n",
       " \"gravely\"\n",
       " \"graven\"\n",
       " ⋮\n",
       " \"graving\"\n",
       " \"gravitate\"\n",
       " \"gravitated\"\n",
       " \"gravitates\"\n",
       " \"gravitating\"\n",
       " \"gravitation\"\n",
       " \"gravitation's\"\n",
       " \"gravitational\"\n",
       " \"gravity\"\n",
       " \"gravity's\"\n",
       " \"gravy\"\n",
       " \"gravy's\""
      ]
     },
     "execution_count": 29,
     "metadata": {},
     "output_type": "execute_result"
    }
   ],
   "source": [
    "@btime entries_with_prefix($corpus, \"grav\")"
   ]
  },
  {
   "cell_type": "code",
   "execution_count": 28,
   "id": "07823753",
   "metadata": {},
   "outputs": [
    {
     "data": {
      "text/plain": [
       "\"gray\""
      ]
     },
     "execution_count": 28,
     "metadata": {},
     "output_type": "execute_result"
    }
   ],
   "source": [
    "corpus.sorted_entries[38962]"
   ]
  },
  {
   "cell_type": "code",
   "execution_count": 23,
   "id": "a10996f0",
   "metadata": {},
   "outputs": [
    {
     "data": {
      "text/plain": [
       "String"
      ]
     },
     "execution_count": 23,
     "metadata": {},
     "output_type": "execute_result"
    }
   ],
   "source": [
    "typeof(\"hello\"[1:2])"
   ]
  },
  {
   "cell_type": "code",
   "execution_count": 20,
   "id": "e8f33f90",
   "metadata": {},
   "outputs": [
    {
     "name": "stdout",
     "output_type": "stream",
     "text": [
      "  900.025 ns (40 allocations: 1.61 KiB)\n"
     ]
    },
    {
     "data": {
      "text/plain": [
       "37-element Vector{String}:\n",
       " \"grave\"\n",
       " \"grave's\"\n",
       " \"graved\"\n",
       " \"gravel\"\n",
       " \"gravel's\"\n",
       " \"graveled\"\n",
       " \"graveling\"\n",
       " \"gravelled\"\n",
       " \"gravelling\"\n",
       " \"gravelly\"\n",
       " \"gravels\"\n",
       " \"gravely\"\n",
       " \"graven\"\n",
       " ⋮\n",
       " \"graving\"\n",
       " \"gravitate\"\n",
       " \"gravitated\"\n",
       " \"gravitates\"\n",
       " \"gravitating\"\n",
       " \"gravitation\"\n",
       " \"gravitation's\"\n",
       " \"gravitational\"\n",
       " \"gravity\"\n",
       " \"gravity's\"\n",
       " \"gravy\"\n",
       " \"gravy's\""
      ]
     },
     "execution_count": 20,
     "metadata": {},
     "output_type": "execute_result"
    }
   ],
   "source": [
    "@btime collect(entries_with_prefix($corpus, \"grav\"))"
   ]
  },
  {
   "cell_type": "code",
   "execution_count": 19,
   "id": "060f7d41",
   "metadata": {},
   "outputs": [
    {
     "name": "stdout",
     "output_type": "stream",
     "text": [
      "  547.265 ns (37 allocations: 1.16 KiB)\n"
     ]
    }
   ],
   "source": [
    "@btime foreach(identity, entries_with_prefix($corpus, \"grav\"))"
   ]
  },
  {
   "cell_type": "code",
   "execution_count": 21,
   "id": "bb7690f8",
   "metadata": {},
   "outputs": [
    {
     "name": "stdout",
     "output_type": "stream",
     "text": [
      "  2.185 ms (102405 allocations: 3.13 MiB)\n"
     ]
    },
    {
     "data": {
      "text/plain": [
       "37-element Vector{String}:\n",
       " \"grave\"\n",
       " \"grave's\"\n",
       " \"graved\"\n",
       " \"gravel\"\n",
       " \"gravel's\"\n",
       " \"graveled\"\n",
       " \"graveling\"\n",
       " \"gravelled\"\n",
       " \"gravelling\"\n",
       " \"gravelly\"\n",
       " \"gravels\"\n",
       " \"gravely\"\n",
       " \"graven\"\n",
       " ⋮\n",
       " \"graving\"\n",
       " \"gravitate\"\n",
       " \"gravitated\"\n",
       " \"gravitates\"\n",
       " \"gravitating\"\n",
       " \"gravitation\"\n",
       " \"gravitation's\"\n",
       " \"gravitational\"\n",
       " \"gravity\"\n",
       " \"gravity's\"\n",
       " \"gravy\"\n",
       " \"gravy's\""
      ]
     },
     "execution_count": 21,
     "metadata": {},
     "output_type": "execute_result"
    }
   ],
   "source": [
    "@btime [word for word in $(corpus.sorted_entries) if startswith(word, \"grav\")]"
   ]
  },
  {
   "cell_type": "code",
   "execution_count": null,
   "id": "0f9bbdc3",
   "metadata": {},
   "outputs": [],
   "source": []
  }
 ],
 "metadata": {
  "@webio": {
   "lastCommId": null,
   "lastKernelId": null
  },
  "kernelspec": {
   "display_name": "Julia 1.7.1",
   "language": "julia",
   "name": "julia-1.7"
  },
  "language_info": {
   "file_extension": ".jl",
   "mimetype": "application/julia",
   "name": "julia",
   "version": "1.7.1"
  }
 },
 "nbformat": 4,
 "nbformat_minor": 5
}
