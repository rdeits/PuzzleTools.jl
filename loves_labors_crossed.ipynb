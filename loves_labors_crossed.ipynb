{
 "cells": [
  {
   "cell_type": "code",
   "execution_count": 1,
   "id": "c8249e5c",
   "metadata": {},
   "outputs": [
    {
     "name": "stderr",
     "output_type": "stream",
     "text": [
      "\u001b[32m\u001b[1m  Activating\u001b[22m\u001b[39m project at `~/Projects/PuzzleTools.jl`\n"
     ]
    }
   ],
   "source": [
    "]activate ."
   ]
  },
  {
   "cell_type": "code",
   "execution_count": 33,
   "id": "98787826",
   "metadata": {},
   "outputs": [
    {
     "data": {
      "text/plain": [
       "10-element Vector{Char}:\n",
       " 's': ASCII/Unicode U+0073 (category Ll: Letter, lowercase)\n",
       " 'h': ASCII/Unicode U+0068 (category Ll: Letter, lowercase)\n",
       " 'a': ASCII/Unicode U+0061 (category Ll: Letter, lowercase)\n",
       " 'r': ASCII/Unicode U+0072 (category Ll: Letter, lowercase)\n",
       " 'p': ASCII/Unicode U+0070 (category Ll: Letter, lowercase)\n",
       " 'g': ASCII/Unicode U+0067 (category Ll: Letter, lowercase)\n",
       " 'u': ASCII/Unicode U+0075 (category Ll: Letter, lowercase)\n",
       " 'y': ASCII/Unicode U+0079 (category Ll: Letter, lowercase)\n",
       " 'e': ASCII/Unicode U+0065 (category Ll: Letter, lowercase)\n",
       " 'd': ASCII/Unicode U+0064 (category Ll: Letter, lowercase)"
      ]
     },
     "metadata": {},
     "output_type": "display_data"
    },
    {
     "data": {
      "text/plain": [
       "5×5 Matrix{Char}:\n",
       " 'a'  'a'  'h'  'e'  'd'\n",
       " 's'  'n'  'o'  'c'  'i'\n",
       " 'p'  'o'  's'  'i'  't'\n",
       " 'e'  'l'  'e'  'm'  'i'\n",
       " 'r'  'e'  'd'  'a'  'n'"
      ]
     },
     "metadata": {},
     "output_type": "display_data"
    },
    {
     "data": {
      "text/plain": [
       "\"aahedsnocipositelemiredan\""
      ]
     },
     "metadata": {},
     "output_type": "display_data"
    },
    {
     "name": "stdout",
     "output_type": "stream",
     "text": [
      "\u001b[0m\u001b[1mTest Summary:         | \u001b[22m\u001b[32m\u001b[1mPass  \u001b[22m\u001b[39m\u001b[36m\u001b[1mTotal\u001b[22m\u001b[39m\n",
      "love's labors crossed | \u001b[32m   1  \u001b[39m\u001b[36m    1\u001b[39m\n"
     ]
    },
    {
     "data": {
      "text/plain": [
       "Test.DefaultTestSet(\"love's labors crossed\", Any[], 1, false, false)"
      ]
     },
     "execution_count": 33,
     "metadata": {},
     "output_type": "execute_result"
    }
   ],
   "source": [
    "# https://www.bookspace.world/puzzle/loves-labors-crossed/\n",
    "\n",
    "using Test\n",
    "using PuzzleTools\n",
    "using PuzzleTools: Corpus, is_valid_prefix, entries_with_prefix\n",
    "using PuzzleTools.Search: dfs\n",
    "\n",
    "@testset \"love's labors crossed\" begin\n",
    "    num(c::Char) = c - 'a' + 1\n",
    "    char(n::Integer) = 'a' + n - 1\n",
    "    letter_sum_mod(word) = char(mod(sum(num, word), 26))\n",
    "\n",
    "    @test letter_sum_mod(\"cupid\") == 'a'\n",
    "\n",
    "    function make_grid(corpus::Corpus, dims)\n",
    "        function children(state)\n",
    "            grid, rows, cols = last(state)\n",
    "            grid = copy(grid)\n",
    "\n",
    "            Channel{typeof(last(state))}() do channel\n",
    "                if rows > cols\n",
    "                    prefix = join(@view(grid[1:rows, cols+1]))\n",
    "                    for word in entries_with_prefix(corpus, prefix)\n",
    "                        new_sum = letter_sum_mod(word)\n",
    "                        sum_ok = true\n",
    "                        for i in 1:rows\n",
    "                            if new_sum == letter_sum_mod(@view grid[i, :])\n",
    "                                sum_ok = false\n",
    "                                break\n",
    "                            end\n",
    "                        end\n",
    "                        if !sum_ok\n",
    "                            continue\n",
    "                        end\n",
    "                        for i in 1:cols\n",
    "                            if new_sum == letter_sum_mod(@view grid[:, i])\n",
    "                                sum_ok = false\n",
    "                                break\n",
    "                            end\n",
    "                        end\n",
    "                        if !sum_ok\n",
    "                            continue\n",
    "                        end\n",
    "                        grid[:, cols + 1] .= codeunits(word)\n",
    "                        partials_ok = true\n",
    "                        for i in (rows+1):size(grid, 1)\n",
    "                            if !is_valid_prefix(corpus, join(@view grid[i, 1:cols+1]))\n",
    "                                partials_ok = false\n",
    "                                break\n",
    "                            end\n",
    "                        end\n",
    "                        if !partials_ok\n",
    "                            continue\n",
    "                        end\n",
    "                        if !is_valid_prefix(corpus, join([letter_sum_mod(@view grid[:, i]) for i in 1:cols + 1]))\n",
    "                            continue\n",
    "                        end\n",
    "                        put!(channel, (copy(grid), rows, cols + 1))\n",
    "                    end\n",
    "                else\n",
    "                    prefix = join(@view(grid[rows+1, 1:cols]))\n",
    "                    for word in entries_with_prefix(corpus, prefix)\n",
    "                        new_sum = letter_sum_mod(word)\n",
    "                        sum_ok = true\n",
    "                        for i in 1:rows\n",
    "                            if new_sum == letter_sum_mod(@view grid[i, :])\n",
    "                                sum_ok = false\n",
    "                                break\n",
    "                            end\n",
    "                        end\n",
    "                        if !sum_ok\n",
    "                            continue\n",
    "                        end\n",
    "                        for i in 1:cols\n",
    "                            if new_sum == letter_sum_mod(@view grid[:, i])\n",
    "                                sum_ok = false\n",
    "                                break\n",
    "                            end\n",
    "                        end\n",
    "                        if !sum_ok\n",
    "                            continue\n",
    "                        end\n",
    "                        grid[rows + 1, :] .= codeunits(word)\n",
    "                        partials_ok = true\n",
    "                        for i in (cols+1):size(grid, 2)\n",
    "                            if !is_valid_prefix(corpus, join(@view grid[1:rows+1, i]))\n",
    "                                partials_ok = false\n",
    "                                break\n",
    "                            end\n",
    "                        end\n",
    "                        if !partials_ok\n",
    "                            continue\n",
    "                        end\n",
    "                        if !is_valid_prefix(corpus, join([letter_sum_mod(@view grid[i, :]) for i in 1:rows + 1]))\n",
    "                            continue\n",
    "                        end\n",
    "                        put!(channel, (copy(grid), rows + 1, cols))\n",
    "                    end\n",
    "                end\n",
    "            end\n",
    "        end\n",
    "\n",
    "        function evaluate(nodes)\n",
    "            grid, rows, cols = last(nodes)\n",
    "            if (rows, cols) == size(grid)\n",
    "                sums = vcat(letter_sum_mod.(eachrow(grid)),\n",
    "                            letter_sum_mod.(eachcol(grid)))\n",
    "                display(sums)\n",
    "                if allunique(sums)\n",
    "                    return :good\n",
    "                else\n",
    "                    return :bad\n",
    "                end\n",
    "            else\n",
    "                return :partial\n",
    "            end\n",
    "        end\n",
    "\n",
    "        start = (fill(' ', dims...), 0, 0)\n",
    "        dfs(start, children, evaluate)\n",
    "    end\n",
    "\n",
    "    dictionary = PuzzleTools.Words.twl06()\n",
    "    allowed_words = String[]\n",
    "    for word in dictionary\n",
    "        if length(word) == 5\n",
    "            push!(allowed_words, word)\n",
    "            push!(allowed_words, reverse(word))\n",
    "        end\n",
    "    end\n",
    "\n",
    "    corpus = Corpus(allowed_words)\n",
    "\n",
    "    result = first(make_grid(corpus, (5, 5)))\n",
    "    answer, _ = last(result)\n",
    "    display(answer)\n",
    "    display(join(permutedims(answer)))\n",
    "end\n"
   ]
  },
  {
   "cell_type": "code",
   "execution_count": null,
   "id": "3337ea24",
   "metadata": {},
   "outputs": [],
   "source": []
  }
 ],
 "metadata": {
  "kernelspec": {
   "display_name": "Julia 1.7.1",
   "language": "julia",
   "name": "julia-1.7"
  },
  "language_info": {
   "file_extension": ".jl",
   "mimetype": "application/julia",
   "name": "julia",
   "version": "1.7.1"
  }
 },
 "nbformat": 4,
 "nbformat_minor": 5
}
