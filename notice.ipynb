{
 "cells": [
  {
   "cell_type": "code",
   "execution_count": 31,
   "metadata": {
    "collapsed": false
   },
   "outputs": [],
   "source": [
    "import PuzzleTools"
   ]
  },
  {
   "cell_type": "code",
   "execution_count": 46,
   "metadata": {
    "collapsed": false
   },
   "outputs": [
    {
     "name": "stderr",
     "output_type": "stream",
     "text": [
      "WARNING: replacing module PuzzleTools\n"
     ]
    }
   ],
   "source": [
    "reload(\"PuzzleTools\")"
   ]
  },
  {
   "cell_type": "code",
   "execution_count": 165,
   "metadata": {
    "collapsed": false
   },
   "outputs": [],
   "source": [
    "words = PuzzleTools.Wordsets.unixwords()[1:100:end];"
   ]
  },
  {
   "cell_type": "code",
   "execution_count": 169,
   "metadata": {
    "collapsed": false
   },
   "outputs": [
    {
     "name": "stderr",
     "output_type": "stream",
     "text": [
      "WARNING: replacing module notice\n"
     ]
    },
    {
     "data": {
      "text/plain": [
       "notice"
      ]
     },
     "execution_count": 169,
     "metadata": {},
     "output_type": "execute_result"
    }
   ],
   "source": [
    "module notice\n",
    "\n",
    "import Base: size, getindex, isless\n",
    "\n",
    "abstract Feature\n",
    "size(::Feature) = ()\n",
    "getindex(f::Feature, ::CartesianIndex{0}) = f\n",
    "\n",
    "const FEATURES = []\n",
    "macro allfeatures(T, expr)\n",
    "    quote\n",
    "        allfeatures(::Type{$T}) = $(esc(expr))\n",
    "        append!(FEATURES, allfeatures($T))\n",
    "    end\n",
    "end\n",
    "\n",
    "immutable ContainsLetter <: Feature\n",
    "    letter::Char\n",
    "end\n",
    "@allfeatures ContainsLetter [ContainsLetter(l) for l in 'a':'z']\n",
    "satisfies(f::ContainsLetter, word) = f.letter in word\n",
    "\n",
    "immutable LetterAtIndex <: Feature\n",
    "    letter::Char\n",
    "    index::Int\n",
    "end\n",
    "@allfeatures LetterAtIndex [LetterAtIndex(l, j) for l in 'a':'z' for j in 1:26]\n",
    "satisfies(f::LetterAtIndex, word) = length(word) >= f.index && word[f.index] == f.letter\n",
    "\n",
    "isconsonant(char) = match(r\"[bcdfghjklmnpqrstvwxyz]\", char)\n",
    "isvowel(char) = match(r\"[aeiouy]\", char)\n",
    "\n",
    "immutable AlternatesConsonantVowel <: Feature\n",
    "end\n",
    "@allfeatures AlternatesConsonantVowel [AlternatesConsonantVowel()]\n",
    "satisfies(f::AlternatesConsonantVowel, word) = \n",
    "    ismatch(r\"^([bcdfghjklmnpqrstvwxyz][aeiouy])+[bcdfghjklmnpqrstvwxyz]?$\", word) ||\n",
    "    ismatch(r\"^([aeiouy][bcdfghjklmnpqrstvwxyz])+[aeiouy]?$\", word)\n",
    "\n",
    "\n",
    "function allfeatures()\n",
    "    return FEATURES\n",
    "end\n",
    "\n",
    "function frequency(feature::Feature, words::AbstractArray{String})\n",
    "    sum(satisfies.(feature, words)) / length(words)\n",
    "end\n",
    "\n",
    "type Corpus\n",
    "    features::Vector{Feature}\n",
    "    frequencies::Vector{Float64}\n",
    "end\n",
    "function Corpus(words::AbstractArray{String})\n",
    "    features = allfeatures()\n",
    "    frequencies = Float64[frequency(f, words) for f in features]\n",
    "    Corpus(features, frequencies)\n",
    "end\n",
    "\n",
    "immutable FeatureResult\n",
    "    feature::Feature\n",
    "    satisfied::Vector{Bool}\n",
    "    frequency::Float64\n",
    "end\n",
    "\n",
    "isless(f1::FeatureResult, f2::FeatureResult) = f1.frequency < f2.frequency\n",
    "\n",
    "function summarize(feature::Feature, frequency::Float64, words::AbstractArray{String})\n",
    "    sat = Vector{Bool}(length(words))\n",
    "    total_freq = 1.0\n",
    "    for i in 1:length(words)\n",
    "        if satisfies(feature, words[i])\n",
    "            sat[i] = true\n",
    "            total_freq *= frequency\n",
    "        else\n",
    "            sat[i] = false\n",
    "            total_freq *= (1 - frequency)\n",
    "        end\n",
    "    end\n",
    "    FeatureResult(feature, sat, binomial(length(sat), sum(sat)) * total_freq)\n",
    "end\n",
    "\n",
    "function analyze(corpus::Corpus, words::AbstractArray{String})\n",
    "    results = FeatureResult[summarize(corpus.features[i], corpus.frequencies[i], words) for i in 1:length(corpus.features)]\n",
    "end\n",
    "    \n",
    "\n",
    "end\n"
   ]
  },
  {
   "cell_type": "code",
   "execution_count": 170,
   "metadata": {
    "collapsed": false
   },
   "outputs": [
    {
     "data": {
      "text/plain": [
       "notice.Corpus(notice.Feature[notice.ContainsLetter('a'),notice.ContainsLetter('b'),notice.ContainsLetter('c'),notice.ContainsLetter('d'),notice.ContainsLetter('e'),notice.ContainsLetter('f'),notice.ContainsLetter('g'),notice.ContainsLetter('h'),notice.ContainsLetter('i'),notice.ContainsLetter('j')  …  notice.LetterAtIndex('z',18),notice.LetterAtIndex('z',19),notice.LetterAtIndex('z',20),notice.LetterAtIndex('z',21),notice.LetterAtIndex('z',22),notice.LetterAtIndex('z',23),notice.LetterAtIndex('z',24),notice.LetterAtIndex('z',25),notice.LetterAtIndex('z',26),notice.AlternatesConsonantVowel()],[0.615515,0.160237,0.365833,0.267062,0.672319,0.0962272,0.174226,0.234421,0.615515,0.0135651  …  0.0,0.0,0.0,0.0,0.0,0.0,0.0,0.0,0.0,0.0907164])"
      ]
     },
     "execution_count": 170,
     "metadata": {},
     "output_type": "execute_result"
    }
   ],
   "source": [
    "c = notice.Corpus(words)"
   ]
  },
  {
   "cell_type": "code",
   "execution_count": 171,
   "metadata": {
    "collapsed": false
   },
   "outputs": [
    {
     "data": {
      "text/plain": [
       "703-element Array{notice.FeatureResult,1}:\n",
       " notice.FeatureResult(notice.AlternatesConsonantVowel(),Bool[true,true,true,true,true,true,true],5.05593e-8)\n",
       " notice.FeatureResult(notice.LetterAtIndex('l',1),Bool[true,true,false,false,true,false,false],0.000598249) \n",
       " notice.FeatureResult(notice.LetterAtIndex('v',3),Bool[false,true,false,false,true,false,false],0.00298332) \n",
       " notice.FeatureResult(notice.LetterAtIndex('e',4),Bool[true,false,false,false,true,true,true],0.00306368)   \n",
       " notice.FeatureResult(notice.LetterAtIndex('z',3),Bool[false,false,false,false,false,true,false],0.00883437)\n",
       " notice.FeatureResult(notice.LetterAtIndex('d',5),Bool[false,false,false,true,false,false,true],0.0130817)  \n",
       " notice.FeatureResult(notice.LetterAtIndex('e',8),Bool[false,true,false,true,true,false,false],0.0145743)   \n",
       " notice.FeatureResult(notice.LetterAtIndex('x',3),Bool[false,false,false,false,false,false,true],0.0373176) \n",
       " notice.FeatureResult(notice.ContainsLetter('c'),Bool[false,false,false,false,false,false,false],0.0412502) \n",
       " notice.FeatureResult(notice.ContainsLetter('n'),Bool[false,false,true,false,false,false,false],0.0444555)  \n",
       " notice.FeatureResult(notice.LetterAtIndex('w',3),Bool[true,false,false,false,false,false,false],0.0537095) \n",
       " notice.FeatureResult(notice.ContainsLetter('e'),Bool[true,true,true,true,true,true,true],0.0620907)        \n",
       " notice.FeatureResult(notice.ContainsLetter('d'),Bool[true,false,false,true,true,false,true],0.0701003)     \n",
       " ⋮                                                                                                          \n",
       " notice.FeatureResult(notice.LetterAtIndex('z',15),Bool[false,false,false,false,false,false,false],1.0)     \n",
       " notice.FeatureResult(notice.LetterAtIndex('z',16),Bool[false,false,false,false,false,false,false],1.0)     \n",
       " notice.FeatureResult(notice.LetterAtIndex('z',17),Bool[false,false,false,false,false,false,false],1.0)     \n",
       " notice.FeatureResult(notice.LetterAtIndex('z',18),Bool[false,false,false,false,false,false,false],1.0)     \n",
       " notice.FeatureResult(notice.LetterAtIndex('z',19),Bool[false,false,false,false,false,false,false],1.0)     \n",
       " notice.FeatureResult(notice.LetterAtIndex('z',20),Bool[false,false,false,false,false,false,false],1.0)     \n",
       " notice.FeatureResult(notice.LetterAtIndex('z',21),Bool[false,false,false,false,false,false,false],1.0)     \n",
       " notice.FeatureResult(notice.LetterAtIndex('z',22),Bool[false,false,false,false,false,false,false],1.0)     \n",
       " notice.FeatureResult(notice.LetterAtIndex('z',23),Bool[false,false,false,false,false,false,false],1.0)     \n",
       " notice.FeatureResult(notice.LetterAtIndex('z',24),Bool[false,false,false,false,false,false,false],1.0)     \n",
       " notice.FeatureResult(notice.LetterAtIndex('z',25),Bool[false,false,false,false,false,false,false],1.0)     \n",
       " notice.FeatureResult(notice.LetterAtIndex('z',26),Bool[false,false,false,false,false,false,false],1.0)     "
      ]
     },
     "execution_count": 171,
     "metadata": {},
     "output_type": "execute_result"
    }
   ],
   "source": [
    "d1s1 = [\"lowered\", \"levitate\", \"inanimate\", \"paradise\", \"leveraged\", \"sizes\", \"tuxedo\"]\n",
    "sort(notice.analyze(c, d1s1))"
   ]
  },
  {
   "cell_type": "code",
   "execution_count": 149,
   "metadata": {
    "collapsed": false
   },
   "outputs": [
    {
     "data": {
      "text/plain": [
       "704-element Array{notice.FeatureResult,1}:\n",
       " notice.FeatureResult(notice.LetterAtIndex('h',1),Bool[true,true,true,true],2.11865e-6)  \n",
       " notice.FeatureResult(notice.ContainsLetter('h'),Bool[true,true,true,true],0.00301987)   \n",
       " notice.FeatureResult(notice.LetterAtIndex('l',3),Bool[true,true,false,false],0.0204854) \n",
       " notice.FeatureResult(notice.ContainsLetter('a'),Bool[false,false,false,false],0.0218533)\n",
       " notice.FeatureResult(notice.LetterAtIndex('w',3),Bool[false,false,true,false],0.0314448)\n",
       " notice.FeatureResult(notice.ContainsLetter('r'),Bool[false,false,false,false],0.0436077)\n",
       " notice.FeatureResult(notice.ContainsLetter('n'),Bool[false,false,false,false],0.0530242)\n",
       " notice.FeatureResult(notice.ContainsLetter('t'),Bool[false,false,false,false],0.0636739)\n",
       " notice.FeatureResult(notice.LetterAtIndex('y',5),Bool[false,false,true,false],0.0644333)\n",
       " notice.FeatureResult(notice.LetterAtIndex('e',2),Bool[true,true,false,false],0.0908535) \n",
       " notice.FeatureResult(notice.ContainsLetter('s'),Bool[false,false,false,false],0.0968527)\n",
       " notice.FeatureResult(notice.LetterAtIndex('d',4),Bool[false,false,true,false],0.123679) \n",
       " notice.FeatureResult(notice.LetterAtIndex('p',4),Bool[false,true,false,false],0.131793) \n",
       " ⋮                                                                                       \n",
       " notice.FeatureResult(notice.LetterAtIndex('z',15),Bool[false,false,false,false],1.0)    \n",
       " notice.FeatureResult(notice.LetterAtIndex('z',16),Bool[false,false,false,false],1.0)    \n",
       " notice.FeatureResult(notice.LetterAtIndex('z',17),Bool[false,false,false,false],1.0)    \n",
       " notice.FeatureResult(notice.LetterAtIndex('z',18),Bool[false,false,false,false],1.0)    \n",
       " notice.FeatureResult(notice.LetterAtIndex('z',19),Bool[false,false,false,false],1.0)    \n",
       " notice.FeatureResult(notice.LetterAtIndex('z',20),Bool[false,false,false,false],1.0)    \n",
       " notice.FeatureResult(notice.LetterAtIndex('z',21),Bool[false,false,false,false],1.0)    \n",
       " notice.FeatureResult(notice.LetterAtIndex('z',22),Bool[false,false,false,false],1.0)    \n",
       " notice.FeatureResult(notice.LetterAtIndex('z',23),Bool[false,false,false,false],1.0)    \n",
       " notice.FeatureResult(notice.LetterAtIndex('z',24),Bool[false,false,false,false],1.0)    \n",
       " notice.FeatureResult(notice.LetterAtIndex('z',25),Bool[false,false,false,false],1.0)    \n",
       " notice.FeatureResult(notice.LetterAtIndex('z',26),Bool[false,false,false,false],1.0)    "
      ]
     },
     "execution_count": 149,
     "metadata": {},
     "output_type": "execute_result"
    }
   ],
   "source": [
    "result = sort(notice.analyze(c, [\"hello\", \"help\", \"howdy\", \"hi\"]))"
   ]
  },
  {
   "cell_type": "code",
   "execution_count": null,
   "metadata": {
    "collapsed": true
   },
   "outputs": [],
   "source": []
  }
 ],
 "metadata": {
  "kernelspec": {
   "display_name": "Julia 0.5.0",
   "language": "julia",
   "name": "julia-0.5"
  },
  "language_info": {
   "file_extension": ".jl",
   "mimetype": "application/julia",
   "name": "julia",
   "version": "0.5.0"
  }
 },
 "nbformat": 4,
 "nbformat_minor": 2
}
