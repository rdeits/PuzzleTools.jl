{
 "cells": [
  {
   "cell_type": "code",
   "execution_count": 296,
   "metadata": {},
   "outputs": [
    {
     "name": "stderr",
     "output_type": "stream",
     "text": [
      "WARNING: replacing module ngram\n"
     ]
    },
    {
     "data": {
      "text/plain": [
       "ngram"
      ]
     },
     "execution_count": 296,
     "metadata": {},
     "output_type": "execute_result"
    }
   ],
   "source": [
    "module ngram\n",
    "\n",
    "import Iterators: partition\n",
    "\n",
    "function cleanup_corpus(data::String)\n",
    "    data = lowercase(data)\n",
    "    data = replace(data, r\"[^a-z ]\", \" \")\n",
    "    data = replace(data, r\"\\s+\", \" \")\n",
    "    collect(data)\n",
    "end\n",
    "\n",
    "function count_ngrams(corpus, n::Integer=2)\n",
    "    count_ngrams(corpus, Val{n})\n",
    "end\n",
    "\n",
    "tokens(corpus) = sort(collect(Set(corpus)))\n",
    "    \n",
    "immutable SlidingWindow{T}\n",
    "    iter::T\n",
    "    window_size::Int\n",
    "end\n",
    "\n",
    "Base.start(::SlidingWindow) = 1\n",
    "Base.done(sw::SlidingWindow, state) = state + sw.window_size - 1 > length(sw.iter)\n",
    "Base.next(sw::SlidingWindow, state) = view(sw.iter, state:(state + sw.window_size - 1)), state + 1\n",
    "Base.length(sw::SlidingWindow) = length(sw.iter) - sw.window_size + 1\n",
    "\n",
    "immutable NGramFrequencies{N, T}\n",
    "    frequencies::Array{Float64, N}\n",
    "    tokens::Vector{T}\n",
    "    token_to_index::Dict{T, Int}\n",
    "end\n",
    "\n",
    "token_to_index{N, T}(freq::NGramFrequencies{N, T}, t::T) = freq.token_to_index[t]\n",
    "token_to_index(freq::NGramFrequencies, t::Colon) = t\n",
    "\n",
    "function Base.getindex{N, T}(freq::NGramFrequencies{N, T}, I::Vararg{Any, N})\n",
    "    getindex(freq.frequencies, [token_to_index(freq, i) for i in I]...)\n",
    "end\n",
    "\n",
    "function Base.view{N, T}(freq::NGramFrequencies{N, T}, I::Vararg{Any, N})\n",
    "    view(freq.frequencies, [token_to_index(freq, i) for i in I]...)\n",
    "end\n",
    "\n",
    "@generated function count_ngrams{N}(corpus, n::Type{Val{N}})\n",
    "    quote\n",
    "        tok = tokens(corpus)\n",
    "        token_indices = Dict(zip(tok, 1:length(tok)))\n",
    "        counts::Array{Int64, N} = zeros(Int64, $(Expr(:tuple, [:(length(tok)) for i in 1:N]...)))\n",
    "        for toks in SlidingWindow(corpus, N)\n",
    "            inds = [token_indices[t] for t in toks]\n",
    "            $(Expr(:ref, :counts, [:(inds[$i]) for i in 1:N]...)) += 1\n",
    "        end\n",
    "        counts .+= 1\n",
    "        NGramFrequencies(log.((counts) ./ sum(counts)), tok, token_indices)\n",
    "    end\n",
    "end\n",
    "\n",
    "function frequency{N, T}(freqs::NGramFrequencies{N, T}, toks::AbstractVector{Nullable{T}})\n",
    "    log(mean(exp.(view(freqs, [isnull(toks[i]) ? (:) : get(toks[i]) for i in 1:length(toks)]...))))\n",
    "end\n",
    "\n",
    "function likelihood{N, T}(freqs::NGramFrequencies{N, T}, str::String)\n",
    "    sum(freqs[toks...] for toks in SlidingWindow(collect(str), N))\n",
    "end\n",
    "\n",
    "function likelihood{N, T}(freqs::NGramFrequencies{N, T}, str::AbstractVector{Nullable{T}})\n",
    "    sum(frequency(freqs, toks) for toks in SlidingWindow(str, N))\n",
    "end\n",
    "        \n",
    "\n",
    "function likelihood{N, T}(freqs::NGramFrequencies{N, T}, str::AbstractVector)\n",
    "    likelihood(freqs, convert(Vector{Nullable{T}}, str))\n",
    "end    \n",
    "    \n",
    "end"
   ]
  },
  {
   "cell_type": "code",
   "execution_count": 297,
   "metadata": {},
   "outputs": [],
   "source": [
    "corpus = ngram.cleanup_corpus(readstring(open(\"data/mobydick.txt\")));"
   ]
  },
  {
   "cell_type": "code",
   "execution_count": 298,
   "metadata": {},
   "outputs": [
    {
     "data": {
      "text/plain": [
       "ngram.NGramFrequencies{2,Char}([-13.9895 -3.89265 … -6.12237 -10.406; -5.3453 -12.1977 … -6.31162 -8.74245; … ; -4.55672 -8.3025 … -13.9895 -13.9895; -11.5046 -10.0192 … -10.7706 -10.2053],[' ','a','b','c','d','e','f','g','h','i'  …  'q','r','s','t','u','v','w','x','y','z'],Dict('g'=>8,'a'=>2,'d'=>5,'l'=>13,'m'=>14,'p'=>17,' '=>1,'q'=>18,'b'=>3,'t'=>21…))"
      ]
     },
     "execution_count": 298,
     "metadata": {},
     "output_type": "execute_result"
    }
   ],
   "source": [
    "freqs = ngram.count_ngrams(corpus, 2)"
   ]
  },
  {
   "cell_type": "code",
   "execution_count": 299,
   "metadata": {},
   "outputs": [
    {
     "data": {
      "text/plain": [
       "-5.882450823928156"
      ]
     },
     "execution_count": 299,
     "metadata": {},
     "output_type": "execute_result"
    }
   ],
   "source": [
    "ngram.frequency(freqs, [Nullable('t'), Nullable()])"
   ]
  },
  {
   "cell_type": "code",
   "execution_count": 300,
   "metadata": {},
   "outputs": [
    {
     "data": {
      "text/plain": [
       "-189.8376362654289"
      ]
     },
     "execution_count": 300,
     "metadata": {},
     "output_type": "execute_result"
    }
   ],
   "source": [
    "ngram.likelihood(freqs, \"salkdjf lkjsdf wjejrs\")"
   ]
  },
  {
   "cell_type": "code",
   "execution_count": 301,
   "metadata": {},
   "outputs": [
    {
     "data": {
      "text/plain": [
       "-9.8509186931655"
      ]
     },
     "execution_count": 301,
     "metadata": {},
     "output_type": "execute_result"
    }
   ],
   "source": [
    "ngram.likelihood(freqs, [Nullable('t'), Nullable('h'), Nullable()])"
   ]
  },
  {
   "cell_type": "code",
   "execution_count": 302,
   "metadata": {},
   "outputs": [
    {
     "data": {
      "text/plain": [
       "-11.71628210227854"
      ]
     },
     "execution_count": 302,
     "metadata": {},
     "output_type": "execute_result"
    }
   ],
   "source": [
    "ngram.likelihood(freqs, ['t', 'h', 'y'])"
   ]
  },
  {
   "cell_type": "code",
   "execution_count": null,
   "metadata": {
    "collapsed": true
   },
   "outputs": [],
   "source": []
  }
 ],
 "metadata": {
  "kernelspec": {
   "display_name": "Julia 0.5.2",
   "language": "julia",
   "name": "julia-0.5"
  },
  "language_info": {
   "file_extension": ".jl",
   "mimetype": "application/julia",
   "name": "julia",
   "version": "0.5.2"
  }
 },
 "nbformat": 4,
 "nbformat_minor": 2
}
